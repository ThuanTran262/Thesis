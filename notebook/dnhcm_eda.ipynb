{
 "cells": [
  {
   "cell_type": "code",
   "execution_count": 83,
   "id": "cd1a29b3-43c4-4374-92b8-5aea8fe09345",
   "metadata": {},
   "outputs": [],
   "source": [
    "import pandas as pd\n",
    "import numpy as npa\n",
    "import glob"
   ]
  },
  {
   "cell_type": "code",
   "execution_count": 3,
   "id": "acbdddf5-7399-4571-a2dc-bb8f38cc2d88",
   "metadata": {},
   "outputs": [],
   "source": [
    "from selenium import webdriver\n",
    "from selenium.webdriver.common.by import By\n",
    "from selenium.webdriver.common.keys import Keys\n",
    "import time"
   ]
  },
  {
   "cell_type": "markdown",
   "id": "2b078ec0-403a-4ccf-8960-09ef6acbde3e",
   "metadata": {
    "tags": []
   },
   "source": [
    "# Doanh nghiệp giải thể"
   ]
  },
  {
   "cell_type": "code",
   "execution_count": 4,
   "id": "b013eb44-33ac-4e54-9a48-15bca439b13e",
   "metadata": {},
   "outputs": [
    {
     "data": {
      "text/html": [
       "<div>\n",
       "<style scoped>\n",
       "    .dataframe tbody tr th:only-of-type {\n",
       "        vertical-align: middle;\n",
       "    }\n",
       "\n",
       "    .dataframe tbody tr th {\n",
       "        vertical-align: top;\n",
       "    }\n",
       "\n",
       "    .dataframe thead th {\n",
       "        text-align: right;\n",
       "    }\n",
       "</style>\n",
       "<table border=\"1\" class=\"dataframe\">\n",
       "  <thead>\n",
       "    <tr style=\"text-align: right;\">\n",
       "      <th></th>\n",
       "      <th>Số thứ tự</th>\n",
       "      <th>Mã số thuế</th>\n",
       "      <th>Tên doanh nghiệp</th>\n",
       "      <th>Loại hình doanh nghiệp</th>\n",
       "      <th>Địa chỉ trụ sở</th>\n",
       "      <th>Ngành cấp I</th>\n",
       "      <th>Tình trạng</th>\n",
       "      <th>Lý do</th>\n",
       "      <th>Ngày giải thể</th>\n",
       "    </tr>\n",
       "  </thead>\n",
       "  <tbody>\n",
       "    <tr>\n",
       "      <th>0</th>\n",
       "      <td>1</td>\n",
       "      <td>1801074887</td>\n",
       "      <td>CÔNG TY CỔ PHẦN TƯ VẤN ĐẦU TƯ VIỆT THẮNG</td>\n",
       "      <td>Công ty cổ phần</td>\n",
       "      <td>Phòng 11-1, tầng 11, tòa nhà Gilimex, số 24C P...</td>\n",
       "      <td>HOẠT ĐỘNG TÀI CHÍNH, NGÂN HÀNG VÀ BẢO HIỂM</td>\n",
       "      <td>Đã giải thể, phá sản, chấm dứt tồn tại</td>\n",
       "      <td>Công ty hoạt động không hiệu quả</td>\n",
       "      <td>26/01/2016</td>\n",
       "    </tr>\n",
       "    <tr>\n",
       "      <th>1</th>\n",
       "      <td>2</td>\n",
       "      <td>0306021825</td>\n",
       "      <td>CÔNG TY TNHH XUẤT NHẬP KHẨU HƯNG LONG</td>\n",
       "      <td>Công ty trách nhiệm hữu hạn hai thành viên trở...</td>\n",
       "      <td>2D Nguyễn Hiến Lê, Phường 13, Quận Tân Bình, T...</td>\n",
       "      <td>HOẠT ĐỘNG CHUYÊN MÔN, KHOA HỌC VÀ CÔNG NGHỆ</td>\n",
       "      <td>Đã giải thể, phá sản, chấm dứt tồn tại</td>\n",
       "      <td>kinh doanh không hiệu quả</td>\n",
       "      <td>10/06/2017</td>\n",
       "    </tr>\n",
       "    <tr>\n",
       "      <th>2</th>\n",
       "      <td>3</td>\n",
       "      <td>0309431731</td>\n",
       "      <td>CÔNG TY TNHH ĐẦU TƯ RỪNG XANH</td>\n",
       "      <td>Công ty trách nhiệm hữu hạn hai thành viên trở...</td>\n",
       "      <td>232 Trần Hưng Đạo, Phường Nguyễn Cư Trinh, Quậ...</td>\n",
       "      <td>NaN</td>\n",
       "      <td>Đã giải thể, phá sản, chấm dứt tồn tại</td>\n",
       "      <td>Doanh nghiệp kinh doanh không hiệu quả.</td>\n",
       "      <td>12/01/2018</td>\n",
       "    </tr>\n",
       "    <tr>\n",
       "      <th>3</th>\n",
       "      <td>4</td>\n",
       "      <td>0309781775</td>\n",
       "      <td>CÔNG TY TNHH THƯƠNG MẠI DỊCH VỤ ĐẦU TƯ XÂY DỰN...</td>\n",
       "      <td>Công ty trách nhiệm hữu hạn hai thành viên trở...</td>\n",
       "      <td>96/4 Đường D1, Phường 25, Quận Bình Thạnh, Thà...</td>\n",
       "      <td>XÂY DỰNG</td>\n",
       "      <td>Đã giải thể, phá sản, chấm dứt tồn tại</td>\n",
       "      <td>Hoạt động không hiệu quả</td>\n",
       "      <td>05/02/2016</td>\n",
       "    </tr>\n",
       "    <tr>\n",
       "      <th>4</th>\n",
       "      <td>5</td>\n",
       "      <td>0310227642</td>\n",
       "      <td>CÔNG TY TNHH THƯƠNG MẠI DỊCH VỤ H.A.T</td>\n",
       "      <td>Công ty trách nhiệm hữu hạn hai thành viên trở...</td>\n",
       "      <td>số 292/33/44D Bình Lợi, Phường 13, Quận Bình T...</td>\n",
       "      <td>NaN</td>\n",
       "      <td>Đã giải thể, phá sản, chấm dứt tồn tại</td>\n",
       "      <td>không thực hiên được kế hoạch kinh doanh</td>\n",
       "      <td>06/10/2017</td>\n",
       "    </tr>\n",
       "    <tr>\n",
       "      <th>5</th>\n",
       "      <td>6</td>\n",
       "      <td>0301561802</td>\n",
       "      <td>CÔNG TY TNHH DỊCH VỤ SỬA CHỮA TÀU THỦY TÂN PHÚ...</td>\n",
       "      <td>Công ty trách nhiệm hữu hạn hai thành viên trở...</td>\n",
       "      <td>14 Phan Liêm, Quận 1, Thành phố Hồ Chí Minh, V...</td>\n",
       "      <td>NaN</td>\n",
       "      <td>Đã giải thể, phá sản, chấm dứt tồn tại</td>\n",
       "      <td>Kinh doanh không đạt hiệu quả</td>\n",
       "      <td>03/12/2018</td>\n",
       "    </tr>\n",
       "    <tr>\n",
       "      <th>6</th>\n",
       "      <td>7</td>\n",
       "      <td>0310085701</td>\n",
       "      <td>CÔNG TY TNHH MỘT THÀNH VIÊN HIPT SÀI GÒN</td>\n",
       "      <td>Công ty trách nhiệm hữu hạn một thành viên</td>\n",
       "      <td>36 Bùi Thị Xuân, Phường Bến Thành, Quận 1, Thà...</td>\n",
       "      <td>NaN</td>\n",
       "      <td>Đã giải thể, phá sản, chấm dứt tồn tại</td>\n",
       "      <td>Kinh doanh không hiệu quả</td>\n",
       "      <td>15/01/2018</td>\n",
       "    </tr>\n",
       "    <tr>\n",
       "      <th>7</th>\n",
       "      <td>8</td>\n",
       "      <td>0302152506</td>\n",
       "      <td>DOANH NGHIỆP TƯ NHÂN VI TRẦN</td>\n",
       "      <td>Doanh nghiệp tư nhân</td>\n",
       "      <td>16 Nguyễn Văn Thủ, Quận 1, Thành phố Hồ Chí Mi...</td>\n",
       "      <td>NaN</td>\n",
       "      <td>Đã giải thể, phá sản, chấm dứt tồn tại</td>\n",
       "      <td>Doanh nghiệp gặp khó khăn trong việc triển kha...</td>\n",
       "      <td>14/11/2017</td>\n",
       "    </tr>\n",
       "    <tr>\n",
       "      <th>8</th>\n",
       "      <td>9</td>\n",
       "      <td>0305199069</td>\n",
       "      <td>DNTN BÁNH NGỌT THẢO VÂN</td>\n",
       "      <td>Doanh nghiệp tư nhân</td>\n",
       "      <td>180 Hai Bà Trưng, Quận 1, Thành phố Hồ Chí Min...</td>\n",
       "      <td>NaN</td>\n",
       "      <td>Đã giải thể, phá sản, chấm dứt tồn tại</td>\n",
       "      <td>Do hoạt động kinh doanh không có hiệu quả</td>\n",
       "      <td>07/03/2018</td>\n",
       "    </tr>\n",
       "    <tr>\n",
       "      <th>9</th>\n",
       "      <td>10</td>\n",
       "      <td>0302425658</td>\n",
       "      <td>CÔNG TY TNHH DỊCH VỤ TRUYỀN THÔNG - THƯƠNG MẠI...</td>\n",
       "      <td>Công ty trách nhiệm hữu hạn hai thành viên trở...</td>\n",
       "      <td>126 Điện Biên Phủ, Phường Đa Kao, Quận 1, Thàn...</td>\n",
       "      <td>NaN</td>\n",
       "      <td>Đã giải thể, phá sản, chấm dứt tồn tại</td>\n",
       "      <td>Kinh doanh không hiệu quả</td>\n",
       "      <td>14/06/2016</td>\n",
       "    </tr>\n",
       "  </tbody>\n",
       "</table>\n",
       "</div>"
      ],
      "text/plain": [
       "  Số thứ tự  Mã số thuế                                   Tên doanh nghiệp  \\\n",
       "0         1  1801074887           CÔNG TY CỔ PHẦN TƯ VẤN ĐẦU TƯ VIỆT THẮNG   \n",
       "1         2  0306021825              CÔNG TY TNHH XUẤT NHẬP KHẨU HƯNG LONG   \n",
       "2         3  0309431731                      CÔNG TY TNHH ĐẦU TƯ RỪNG XANH   \n",
       "3         4  0309781775  CÔNG TY TNHH THƯƠNG MẠI DỊCH VỤ ĐẦU TƯ XÂY DỰN...   \n",
       "4         5  0310227642              CÔNG TY TNHH THƯƠNG MẠI DỊCH VỤ H.A.T   \n",
       "5         6  0301561802  CÔNG TY TNHH DỊCH VỤ SỬA CHỮA TÀU THỦY TÂN PHÚ...   \n",
       "6         7  0310085701           CÔNG TY TNHH MỘT THÀNH VIÊN HIPT SÀI GÒN   \n",
       "7         8  0302152506                       DOANH NGHIỆP TƯ NHÂN VI TRẦN   \n",
       "8         9  0305199069                            DNTN BÁNH NGỌT THẢO VÂN   \n",
       "9        10  0302425658  CÔNG TY TNHH DỊCH VỤ TRUYỀN THÔNG - THƯƠNG MẠI...   \n",
       "\n",
       "                              Loại hình doanh nghiệp  \\\n",
       "0                                    Công ty cổ phần   \n",
       "1  Công ty trách nhiệm hữu hạn hai thành viên trở...   \n",
       "2  Công ty trách nhiệm hữu hạn hai thành viên trở...   \n",
       "3  Công ty trách nhiệm hữu hạn hai thành viên trở...   \n",
       "4  Công ty trách nhiệm hữu hạn hai thành viên trở...   \n",
       "5  Công ty trách nhiệm hữu hạn hai thành viên trở...   \n",
       "6         Công ty trách nhiệm hữu hạn một thành viên   \n",
       "7                               Doanh nghiệp tư nhân   \n",
       "8                               Doanh nghiệp tư nhân   \n",
       "9  Công ty trách nhiệm hữu hạn hai thành viên trở...   \n",
       "\n",
       "                                      Địa chỉ trụ sở  \\\n",
       "0  Phòng 11-1, tầng 11, tòa nhà Gilimex, số 24C P...   \n",
       "1  2D Nguyễn Hiến Lê, Phường 13, Quận Tân Bình, T...   \n",
       "2  232 Trần Hưng Đạo, Phường Nguyễn Cư Trinh, Quậ...   \n",
       "3  96/4 Đường D1, Phường 25, Quận Bình Thạnh, Thà...   \n",
       "4  số 292/33/44D Bình Lợi, Phường 13, Quận Bình T...   \n",
       "5  14 Phan Liêm, Quận 1, Thành phố Hồ Chí Minh, V...   \n",
       "6  36 Bùi Thị Xuân, Phường Bến Thành, Quận 1, Thà...   \n",
       "7  16 Nguyễn Văn Thủ, Quận 1, Thành phố Hồ Chí Mi...   \n",
       "8  180 Hai Bà Trưng, Quận 1, Thành phố Hồ Chí Min...   \n",
       "9  126 Điện Biên Phủ, Phường Đa Kao, Quận 1, Thàn...   \n",
       "\n",
       "                                   Ngành cấp I  \\\n",
       "0   HOẠT ĐỘNG TÀI CHÍNH, NGÂN HÀNG VÀ BẢO HIỂM   \n",
       "1  HOẠT ĐỘNG CHUYÊN MÔN, KHOA HỌC VÀ CÔNG NGHỆ   \n",
       "2                                          NaN   \n",
       "3                                     XÂY DỰNG   \n",
       "4                                          NaN   \n",
       "5                                          NaN   \n",
       "6                                          NaN   \n",
       "7                                          NaN   \n",
       "8                                          NaN   \n",
       "9                                          NaN   \n",
       "\n",
       "                               Tình trạng  \\\n",
       "0  Đã giải thể, phá sản, chấm dứt tồn tại   \n",
       "1  Đã giải thể, phá sản, chấm dứt tồn tại   \n",
       "2  Đã giải thể, phá sản, chấm dứt tồn tại   \n",
       "3  Đã giải thể, phá sản, chấm dứt tồn tại   \n",
       "4  Đã giải thể, phá sản, chấm dứt tồn tại   \n",
       "5  Đã giải thể, phá sản, chấm dứt tồn tại   \n",
       "6  Đã giải thể, phá sản, chấm dứt tồn tại   \n",
       "7  Đã giải thể, phá sản, chấm dứt tồn tại   \n",
       "8  Đã giải thể, phá sản, chấm dứt tồn tại   \n",
       "9  Đã giải thể, phá sản, chấm dứt tồn tại   \n",
       "\n",
       "                                               Lý do Ngày giải thể  \n",
       "0                   Công ty hoạt động không hiệu quả    26/01/2016  \n",
       "1                          kinh doanh không hiệu quả    10/06/2017  \n",
       "2            Doanh nghiệp kinh doanh không hiệu quả.    12/01/2018  \n",
       "3                           Hoạt động không hiệu quả    05/02/2016  \n",
       "4           không thực hiên được kế hoạch kinh doanh    06/10/2017  \n",
       "5                      Kinh doanh không đạt hiệu quả    03/12/2018  \n",
       "6                          Kinh doanh không hiệu quả    15/01/2018  \n",
       "7  Doanh nghiệp gặp khó khăn trong việc triển kha...    14/11/2017  \n",
       "8          Do hoạt động kinh doanh không có hiệu quả    07/03/2018  \n",
       "9                          Kinh doanh không hiệu quả    14/06/2016  "
      ]
     },
     "execution_count": 4,
     "metadata": {},
     "output_type": "execute_result"
    }
   ],
   "source": [
    "bankruptcy_corp = pd.read_csv('../dataset/DN-HCM/DanhSachDaGiaiThe (2).csv', dtype='unicode')\n",
    "bankruptcy_corp.head(10)"
   ]
  },
  {
   "cell_type": "code",
   "execution_count": 5,
   "id": "7f332695-ceb2-48e2-8cba-045806f23ca6",
   "metadata": {},
   "outputs": [
    {
     "data": {
      "text/plain": [
       "(25709, 9)"
      ]
     },
     "execution_count": 5,
     "metadata": {},
     "output_type": "execute_result"
    }
   ],
   "source": [
    "bankruptcy_corp.shape"
   ]
  },
  {
   "cell_type": "code",
   "execution_count": 6,
   "id": "7af67135-a24a-4c2c-bdf4-608219a36a4e",
   "metadata": {},
   "outputs": [
    {
     "data": {
      "text/plain": [
       "Số thứ tự                 0.000000\n",
       "Mã số thuế                0.003890\n",
       "Tên doanh nghiệp          0.000000\n",
       "Loại hình doanh nghiệp    0.000000\n",
       "Địa chỉ trụ sở            0.000000\n",
       "Ngành cấp I               8.281147\n",
       "Tình trạng                0.000000\n",
       "Lý do                     0.116691\n",
       "Ngày giải thể             0.000000\n",
       "dtype: float64"
      ]
     },
     "execution_count": 6,
     "metadata": {},
     "output_type": "execute_result"
    }
   ],
   "source": [
    "bankruptcy_corp.isnull().sum()*100/bankruptcy_corp.shape[0]"
   ]
  },
  {
   "cell_type": "code",
   "execution_count": 7,
   "id": "11904246-be48-454d-8393-14ff84fee8cb",
   "metadata": {},
   "outputs": [
    {
     "data": {
      "text/plain": [
       "Loại hình doanh nghiệp\n",
       "Công ty trách nhiệm hữu hạn một thành viên            12370\n",
       "Công ty trách nhiệm hữu hạn hai thành viên trở lên     8861\n",
       "Công ty cổ phần                                        3487\n",
       "Doanh nghiệp tư nhân                                    984\n",
       "Công ty hợp danh                                          7\n",
       "Name: count, dtype: int64"
      ]
     },
     "execution_count": 7,
     "metadata": {},
     "output_type": "execute_result"
    }
   ],
   "source": [
    "bankruptcy_corp['Loại hình doanh nghiệp'].value_counts()"
   ]
  },
  {
   "cell_type": "code",
   "execution_count": 8,
   "id": "b2958df0-74b8-4843-95ed-9ed91b4546da",
   "metadata": {},
   "outputs": [
    {
     "data": {
      "text/plain": [
       "Loại hình doanh nghiệp\n",
       "Công ty trách nhiệm hữu hạn một thành viên            48.115446\n",
       "Công ty trách nhiệm hữu hạn hai thành viên trở lên    34.466529\n",
       "Công ty cổ phần                                       13.563344\n",
       "Doanh nghiệp tư nhân                                   3.827453\n",
       "Công ty hợp danh                                       0.027228\n",
       "Name: count, dtype: float64"
      ]
     },
     "execution_count": 8,
     "metadata": {},
     "output_type": "execute_result"
    }
   ],
   "source": [
    "bankruptcy_corp['Loại hình doanh nghiệp'].value_counts()*100/bankruptcy_corp.shape[0]"
   ]
  },
  {
   "cell_type": "code",
   "execution_count": 9,
   "id": "aef9f609-d0dd-49c2-a168-d5fd03590476",
   "metadata": {},
   "outputs": [
    {
     "data": {
      "text/plain": [
       "'01/02/2016'"
      ]
     },
     "execution_count": 9,
     "metadata": {},
     "output_type": "execute_result"
    }
   ],
   "source": [
    "bankruptcy_corp['Ngày giải thể'].min()"
   ]
  },
  {
   "cell_type": "code",
   "execution_count": 10,
   "id": "0373744b-b252-4951-8bc0-e0cea16b8a11",
   "metadata": {},
   "outputs": [
    {
     "data": {
      "text/plain": [
       "'31/12/2020'"
      ]
     },
     "execution_count": 10,
     "metadata": {},
     "output_type": "execute_result"
    }
   ],
   "source": [
    "bankruptcy_corp['Ngày giải thể'].max()"
   ]
  },
  {
   "cell_type": "markdown",
   "id": "df21f598-c105-4404-9bb3-26e47d44c274",
   "metadata": {
    "tags": []
   },
   "source": [
    "# Doanh nghiệp hoạt động"
   ]
  },
  {
   "cell_type": "code",
   "execution_count": 11,
   "id": "d974fb99-96a1-4d10-b83f-e975ff217468",
   "metadata": {},
   "outputs": [
    {
     "data": {
      "text/html": [
       "<div>\n",
       "<style scoped>\n",
       "    .dataframe tbody tr th:only-of-type {\n",
       "        vertical-align: middle;\n",
       "    }\n",
       "\n",
       "    .dataframe tbody tr th {\n",
       "        vertical-align: top;\n",
       "    }\n",
       "\n",
       "    .dataframe thead th {\n",
       "        text-align: right;\n",
       "    }\n",
       "</style>\n",
       "<table border=\"1\" class=\"dataframe\">\n",
       "  <thead>\n",
       "    <tr style=\"text-align: right;\">\n",
       "      <th></th>\n",
       "      <th>MaSoDN</th>\n",
       "      <th>TenDN</th>\n",
       "      <th>NgayCap</th>\n",
       "      <th>LoaiDN</th>\n",
       "      <th>DiaChi</th>\n",
       "      <th>NganhNghe</th>\n",
       "    </tr>\n",
       "  </thead>\n",
       "  <tbody>\n",
       "    <tr>\n",
       "      <th>0</th>\n",
       "      <td>0313597320</td>\n",
       "      <td>CÔNG TY TNHH LAVITA</td>\n",
       "      <td>04/01/2016</td>\n",
       "      <td>Công ty trách nhiệm hữu hạn hai thành viên trở...</td>\n",
       "      <td>32-Đ6 Sài Gòn Pearl Villas-92 Nguyễn Hữu Cảnh,...</td>\n",
       "      <td>1621: Sản xuất gỗ dán, gỗ lạng, ván ép và ván ...</td>\n",
       "    </tr>\n",
       "    <tr>\n",
       "      <th>1</th>\n",
       "      <td>0313597507</td>\n",
       "      <td>CÔNG TY TNHH ĐẦU TƯ PHÁT TRIỂN KHÁCH SẠN SÀI GÒN</td>\n",
       "      <td>04/01/2016</td>\n",
       "      <td>Công ty trách nhiệm hữu hạn một thành viên</td>\n",
       "      <td>Số 1122/1 Quang Trung, Phường 8, Quận Gò Vấp, ...</td>\n",
       "      <td>5510: Dịch vụ lưu trú ngắn ngày--Chi tiết: Kin...</td>\n",
       "    </tr>\n",
       "    <tr>\n",
       "      <th>2</th>\n",
       "      <td>0313587386</td>\n",
       "      <td>CÔNG TY TRÁCH NHIỆM HỮU HẠN MỘT THÀNH VIÊN DỊC...</td>\n",
       "      <td>01/01/2016</td>\n",
       "      <td>Công ty trách nhiệm hữu hạn một thành viên</td>\n",
       "      <td>Số 49 Trường Sơn, Phường 2, Quận Tân Bình, Thà...</td>\n",
       "      <td>8559: Giáo dục khác chưa được phân vào đâu-Chi...</td>\n",
       "    </tr>\n",
       "    <tr>\n",
       "      <th>3</th>\n",
       "      <td>0313599208</td>\n",
       "      <td>DOANH NGHIỆP TƯ NHÂN THƯƠNG MẠI VÀNG BẠC ĐÁ QU...</td>\n",
       "      <td>04/01/2016</td>\n",
       "      <td>Doanh nghiệp tư nhân</td>\n",
       "      <td>169 Đường liên khu 4-5, Phường Bình Hưng Hòa B...</td>\n",
       "      <td>3211: Sản xuất đồ kim hoàn và chi tiết liên qu...</td>\n",
       "    </tr>\n",
       "    <tr>\n",
       "      <th>4</th>\n",
       "      <td>0313640209</td>\n",
       "      <td>CÔNG TY TNHH THƯƠNG MẠI THIÊN NHẬT PHÁT</td>\n",
       "      <td>28/01/2016</td>\n",
       "      <td>Công ty trách nhiệm hữu hạn một thành viên</td>\n",
       "      <td>186 Lưu Hữu Phước, Phường 15, Quận 8, Thành ph...</td>\n",
       "      <td>2592: Gia công cơ khí; xử lý và tráng phủ kim ...</td>\n",
       "    </tr>\n",
       "  </tbody>\n",
       "</table>\n",
       "</div>"
      ],
      "text/plain": [
       "       MaSoDN                                              TenDN     NgayCap  \\\n",
       "0  0313597320                                CÔNG TY TNHH LAVITA  04/01/2016   \n",
       "1  0313597507   CÔNG TY TNHH ĐẦU TƯ PHÁT TRIỂN KHÁCH SẠN SÀI GÒN  04/01/2016   \n",
       "2  0313587386  CÔNG TY TRÁCH NHIỆM HỮU HẠN MỘT THÀNH VIÊN DỊC...  01/01/2016   \n",
       "3  0313599208  DOANH NGHIỆP TƯ NHÂN THƯƠNG MẠI VÀNG BẠC ĐÁ QU...  04/01/2016   \n",
       "4  0313640209            CÔNG TY TNHH THƯƠNG MẠI THIÊN NHẬT PHÁT  28/01/2016   \n",
       "\n",
       "                                              LoaiDN  \\\n",
       "0  Công ty trách nhiệm hữu hạn hai thành viên trở...   \n",
       "1         Công ty trách nhiệm hữu hạn một thành viên   \n",
       "2         Công ty trách nhiệm hữu hạn một thành viên   \n",
       "3                               Doanh nghiệp tư nhân   \n",
       "4         Công ty trách nhiệm hữu hạn một thành viên   \n",
       "\n",
       "                                              DiaChi  \\\n",
       "0  32-Đ6 Sài Gòn Pearl Villas-92 Nguyễn Hữu Cảnh,...   \n",
       "1  Số 1122/1 Quang Trung, Phường 8, Quận Gò Vấp, ...   \n",
       "2  Số 49 Trường Sơn, Phường 2, Quận Tân Bình, Thà...   \n",
       "3  169 Đường liên khu 4-5, Phường Bình Hưng Hòa B...   \n",
       "4  186 Lưu Hữu Phước, Phường 15, Quận 8, Thành ph...   \n",
       "\n",
       "                                           NganhNghe  \n",
       "0  1621: Sản xuất gỗ dán, gỗ lạng, ván ép và ván ...  \n",
       "1  5510: Dịch vụ lưu trú ngắn ngày--Chi tiết: Kin...  \n",
       "2  8559: Giáo dục khác chưa được phân vào đâu-Chi...  \n",
       "3  3211: Sản xuất đồ kim hoàn và chi tiết liên qu...  \n",
       "4  2592: Gia công cơ khí; xử lý và tráng phủ kim ...  "
      ]
     },
     "execution_count": 11,
     "metadata": {},
     "output_type": "execute_result"
    }
   ],
   "source": [
    "active_corp = pd.read_csv('../dataset/DN-HCM/DanhSachDangHoatDong_1.csv', dtype='unicode')\n",
    "active_corp.head()"
   ]
  },
  {
   "cell_type": "code",
   "execution_count": 12,
   "id": "284ca86c-18cb-4378-b047-8f32cf008b76",
   "metadata": {},
   "outputs": [
    {
     "data": {
      "text/plain": [
       "LoaiDN\n",
       "Công ty trách nhiệm hữu hạn một thành viên            58.416481\n",
       "Công ty trách nhiệm hữu hạn hai thành viên trở lên    27.437738\n",
       "Công ty cổ phần                                       13.212096\n",
       "Doanh nghiệp tư nhân                                   0.923333\n",
       "Công ty hợp danh                                       0.010352\n",
       "Name: count, dtype: float64"
      ]
     },
     "execution_count": 12,
     "metadata": {},
     "output_type": "execute_result"
    }
   ],
   "source": [
    "active_corp['LoaiDN'].value_counts()*100/active_corp.shape[0]"
   ]
  },
  {
   "cell_type": "code",
   "execution_count": 13,
   "id": "a79c3772-4257-44f9-8c80-9152b8d92f4d",
   "metadata": {
    "scrolled": true
   },
   "outputs": [
    {
     "data": {
      "text/plain": [
       "LoaiDN\n",
       "Công ty trách nhiệm hữu hạn một thành viên            118499\n",
       "Công ty trách nhiệm hữu hạn hai thành viên trở lên     55658\n",
       "Công ty cổ phần                                        26801\n",
       "Doanh nghiệp tư nhân                                    1873\n",
       "Công ty hợp danh                                          21\n",
       "Name: count, dtype: int64"
      ]
     },
     "execution_count": 13,
     "metadata": {},
     "output_type": "execute_result"
    }
   ],
   "source": [
    "active_corp['LoaiDN'].value_counts()"
   ]
  },
  {
   "cell_type": "code",
   "execution_count": 14,
   "id": "cbe94457-3f62-4559-9876-91d03a855352",
   "metadata": {},
   "outputs": [
    {
     "data": {
      "text/html": [
       "<div>\n",
       "<style scoped>\n",
       "    .dataframe tbody tr th:only-of-type {\n",
       "        vertical-align: middle;\n",
       "    }\n",
       "\n",
       "    .dataframe tbody tr th {\n",
       "        vertical-align: top;\n",
       "    }\n",
       "\n",
       "    .dataframe thead th {\n",
       "        text-align: right;\n",
       "    }\n",
       "</style>\n",
       "<table border=\"1\" class=\"dataframe\">\n",
       "  <thead>\n",
       "    <tr style=\"text-align: right;\">\n",
       "      <th></th>\n",
       "      <th>MaSoDN</th>\n",
       "      <th>TenDN</th>\n",
       "      <th>NgayCap</th>\n",
       "      <th>LoaiDN</th>\n",
       "      <th>DiaChi</th>\n",
       "      <th>NganhNghe</th>\n",
       "    </tr>\n",
       "  </thead>\n",
       "  <tbody>\n",
       "    <tr>\n",
       "      <th>13</th>\n",
       "      <td>0313603461</td>\n",
       "      <td>CÔNG TY CỔ PHẦN TẬP ĐOÀN HUTIMEX</td>\n",
       "      <td>06/01/2016</td>\n",
       "      <td>Công ty cổ phần</td>\n",
       "      <td>168/47A Đường Chiến Lược, Khu phố 8, Phường Bì...</td>\n",
       "      <td>0112: Trồng ngô và cây lương thực có hạt khác-...</td>\n",
       "    </tr>\n",
       "    <tr>\n",
       "      <th>26</th>\n",
       "      <td>0313598388</td>\n",
       "      <td>CÔNG TY CỔ PHẦN BẤT ĐỘNG SẢN KEYLAND</td>\n",
       "      <td>04/01/2016</td>\n",
       "      <td>Công ty cổ phần</td>\n",
       "      <td>287 Đường Ấp 2, Phường An Phú, Thành phố Thủ Đ...</td>\n",
       "      <td>6820: Tư vấn, môi giới, đấu giá bất động sản, ...</td>\n",
       "    </tr>\n",
       "    <tr>\n",
       "      <th>28</th>\n",
       "      <td>0313598532</td>\n",
       "      <td>CÔNG TY CỔ PHẦN NĂNG LƯỢNG MÔI TRƯỜNG HOÀNG HẢ...</td>\n",
       "      <td>04/01/2016</td>\n",
       "      <td>Công ty cổ phần</td>\n",
       "      <td>144 A Đường Trần Văn Chẩm , Xã Phước Vĩnh An, ...</td>\n",
       "      <td>0113: Trồng cây lấy củ có chất bột-(không hoạt...</td>\n",
       "    </tr>\n",
       "    <tr>\n",
       "      <th>29</th>\n",
       "      <td>0313598733</td>\n",
       "      <td>CÔNG TY CỔ PHẦN PHÁT TRIỂN BẤT ĐỘNG SẢN THÀNH ...</td>\n",
       "      <td>04/01/2016</td>\n",
       "      <td>Công ty cổ phần</td>\n",
       "      <td>174 Trần Phú, Phường 09, Quận 5, Thành phố Hồ ...</td>\n",
       "      <td>4652: Bán buôn thiết bị và linh kiện điện tử, ...</td>\n",
       "    </tr>\n",
       "    <tr>\n",
       "      <th>61</th>\n",
       "      <td>0313599310</td>\n",
       "      <td>CÔNG TY CỔ PHẦN GIẢI PHÁP CNC</td>\n",
       "      <td>04/01/2016</td>\n",
       "      <td>Công ty cổ phần</td>\n",
       "      <td>Phòng 6.11 Lầu 6, Cao Ốc Thịnh Vượng, số 531 N...</td>\n",
       "      <td>2593: Sản xuất dao kéo, dụng cụ cầm tay và đồ ...</td>\n",
       "    </tr>\n",
       "    <tr>\n",
       "      <th>...</th>\n",
       "      <td>...</td>\n",
       "      <td>...</td>\n",
       "      <td>...</td>\n",
       "      <td>...</td>\n",
       "      <td>...</td>\n",
       "      <td>...</td>\n",
       "    </tr>\n",
       "    <tr>\n",
       "      <th>202803</th>\n",
       "      <td>0317004388</td>\n",
       "      <td>CÔNG TY CỔ PHẦN SAIGON ROYAL HOME</td>\n",
       "      <td>29/10/2021</td>\n",
       "      <td>Công ty cổ phần</td>\n",
       "      <td>15/12 Hồng Hà, Phường 2, Quận Tân Bình, Thành ...</td>\n",
       "      <td>2511: Sản xuất các cấu kiện kim loại-;2512: Sả...</td>\n",
       "    </tr>\n",
       "    <tr>\n",
       "      <th>202805</th>\n",
       "      <td>0317004363</td>\n",
       "      <td>CÔNG TY CỔ PHẦN BÉ AN TOÀN</td>\n",
       "      <td>29/10/2021</td>\n",
       "      <td>Công ty cổ phần</td>\n",
       "      <td>27A Hoàng Việt, Phường 4, Quận Tân Bình, Thành...</td>\n",
       "      <td>4649: Bán buôn đồ dùng khác cho gia đình-(trừ ...</td>\n",
       "    </tr>\n",
       "    <tr>\n",
       "      <th>202812</th>\n",
       "      <td>0317001299</td>\n",
       "      <td>CÔNG TY CỔ PHẦN ĐỊA ỐC GIA CÁT LỢI</td>\n",
       "      <td>29/10/2021</td>\n",
       "      <td>Công ty cổ phần</td>\n",
       "      <td>163 Đường Nguyễn Thị Nhung, KDC Vạn Phúc 1, Qu...</td>\n",
       "      <td>6810: Kinh doanh bất động sản, quyền sử dụng đ...</td>\n",
       "    </tr>\n",
       "    <tr>\n",
       "      <th>202846</th>\n",
       "      <td>0317004853</td>\n",
       "      <td>CÔNG TY CỔ PHẦN XÂY DỰNG - XUẤT NHẬP KHẨU ĐÔNG...</td>\n",
       "      <td>29/10/2021</td>\n",
       "      <td>Công ty cổ phần</td>\n",
       "      <td>Số 63 KP8 Đường 36, Phường Linh Đông, Thành ph...</td>\n",
       "      <td>6810: Kinh doanh bất động sản, quyền sử dụng đ...</td>\n",
       "    </tr>\n",
       "    <tr>\n",
       "      <th>202849</th>\n",
       "      <td>0402078119</td>\n",
       "      <td>CÔNG TY CỔ PHẦN FRIENDLY DEV CO</td>\n",
       "      <td>11/01/2021</td>\n",
       "      <td>Công ty cổ phần</td>\n",
       "      <td>Tòa nhà Serepok, 56 Nguyễn Đình Chiểu, Phường ...</td>\n",
       "      <td>7310: Quảng cáo-(không dập, cắt, gò, hàn, đồng...</td>\n",
       "    </tr>\n",
       "  </tbody>\n",
       "</table>\n",
       "<p>26801 rows × 6 columns</p>\n",
       "</div>"
      ],
      "text/plain": [
       "            MaSoDN                                              TenDN  \\\n",
       "13      0313603461                   CÔNG TY CỔ PHẦN TẬP ĐOÀN HUTIMEX   \n",
       "26      0313598388               CÔNG TY CỔ PHẦN BẤT ĐỘNG SẢN KEYLAND   \n",
       "28      0313598532  CÔNG TY CỔ PHẦN NĂNG LƯỢNG MÔI TRƯỜNG HOÀNG HẢ...   \n",
       "29      0313598733  CÔNG TY CỔ PHẦN PHÁT TRIỂN BẤT ĐỘNG SẢN THÀNH ...   \n",
       "61      0313599310                      CÔNG TY CỔ PHẦN GIẢI PHÁP CNC   \n",
       "...            ...                                                ...   \n",
       "202803  0317004388                  CÔNG TY CỔ PHẦN SAIGON ROYAL HOME   \n",
       "202805  0317004363                         CÔNG TY CỔ PHẦN BÉ AN TOÀN   \n",
       "202812  0317001299                 CÔNG TY CỔ PHẦN ĐỊA ỐC GIA CÁT LỢI   \n",
       "202846  0317004853  CÔNG TY CỔ PHẦN XÂY DỰNG - XUẤT NHẬP KHẨU ĐÔNG...   \n",
       "202849  0402078119                    CÔNG TY CỔ PHẦN FRIENDLY DEV CO   \n",
       "\n",
       "           NgayCap           LoaiDN  \\\n",
       "13      06/01/2016  Công ty cổ phần   \n",
       "26      04/01/2016  Công ty cổ phần   \n",
       "28      04/01/2016  Công ty cổ phần   \n",
       "29      04/01/2016  Công ty cổ phần   \n",
       "61      04/01/2016  Công ty cổ phần   \n",
       "...            ...              ...   \n",
       "202803  29/10/2021  Công ty cổ phần   \n",
       "202805  29/10/2021  Công ty cổ phần   \n",
       "202812  29/10/2021  Công ty cổ phần   \n",
       "202846  29/10/2021  Công ty cổ phần   \n",
       "202849  11/01/2021  Công ty cổ phần   \n",
       "\n",
       "                                                   DiaChi  \\\n",
       "13      168/47A Đường Chiến Lược, Khu phố 8, Phường Bì...   \n",
       "26      287 Đường Ấp 2, Phường An Phú, Thành phố Thủ Đ...   \n",
       "28      144 A Đường Trần Văn Chẩm , Xã Phước Vĩnh An, ...   \n",
       "29      174 Trần Phú, Phường 09, Quận 5, Thành phố Hồ ...   \n",
       "61      Phòng 6.11 Lầu 6, Cao Ốc Thịnh Vượng, số 531 N...   \n",
       "...                                                   ...   \n",
       "202803  15/12 Hồng Hà, Phường 2, Quận Tân Bình, Thành ...   \n",
       "202805  27A Hoàng Việt, Phường 4, Quận Tân Bình, Thành...   \n",
       "202812  163 Đường Nguyễn Thị Nhung, KDC Vạn Phúc 1, Qu...   \n",
       "202846  Số 63 KP8 Đường 36, Phường Linh Đông, Thành ph...   \n",
       "202849  Tòa nhà Serepok, 56 Nguyễn Đình Chiểu, Phường ...   \n",
       "\n",
       "                                                NganhNghe  \n",
       "13      0112: Trồng ngô và cây lương thực có hạt khác-...  \n",
       "26      6820: Tư vấn, môi giới, đấu giá bất động sản, ...  \n",
       "28      0113: Trồng cây lấy củ có chất bột-(không hoạt...  \n",
       "29      4652: Bán buôn thiết bị và linh kiện điện tử, ...  \n",
       "61      2593: Sản xuất dao kéo, dụng cụ cầm tay và đồ ...  \n",
       "...                                                   ...  \n",
       "202803  2511: Sản xuất các cấu kiện kim loại-;2512: Sả...  \n",
       "202805  4649: Bán buôn đồ dùng khác cho gia đình-(trừ ...  \n",
       "202812  6810: Kinh doanh bất động sản, quyền sử dụng đ...  \n",
       "202846  6810: Kinh doanh bất động sản, quyền sử dụng đ...  \n",
       "202849  7310: Quảng cáo-(không dập, cắt, gò, hàn, đồng...  \n",
       "\n",
       "[26801 rows x 6 columns]"
      ]
     },
     "execution_count": 14,
     "metadata": {},
     "output_type": "execute_result"
    }
   ],
   "source": [
    "active_corp[active_corp.LoaiDN == 'Công ty cổ phần']"
   ]
  },
  {
   "cell_type": "code",
   "execution_count": 15,
   "id": "e2ff595a-6c22-4533-984a-7c3acefad7a5",
   "metadata": {},
   "outputs": [
    {
     "data": {
      "text/plain": [
       "'01/01/2016'"
      ]
     },
     "execution_count": 15,
     "metadata": {},
     "output_type": "execute_result"
    }
   ],
   "source": [
    "active_corp.NgayCap.min()"
   ]
  },
  {
   "cell_type": "code",
   "execution_count": 16,
   "id": "661ae540-b8de-408c-877b-0d8a82392661",
   "metadata": {},
   "outputs": [
    {
     "data": {
      "text/plain": [
       "'31/12/2020'"
      ]
     },
     "execution_count": 16,
     "metadata": {},
     "output_type": "execute_result"
    }
   ],
   "source": [
    "active_corp.NgayCap.max()"
   ]
  },
  {
   "cell_type": "code",
   "execution_count": 17,
   "id": "b321a61c-b1f9-4143-b570-159075f45136",
   "metadata": {},
   "outputs": [
    {
     "data": {
      "text/html": [
       "<div>\n",
       "<style scoped>\n",
       "    .dataframe tbody tr th:only-of-type {\n",
       "        vertical-align: middle;\n",
       "    }\n",
       "\n",
       "    .dataframe tbody tr th {\n",
       "        vertical-align: top;\n",
       "    }\n",
       "\n",
       "    .dataframe thead th {\n",
       "        text-align: right;\n",
       "    }\n",
       "</style>\n",
       "<table border=\"1\" class=\"dataframe\">\n",
       "  <thead>\n",
       "    <tr style=\"text-align: right;\">\n",
       "      <th></th>\n",
       "      <th>MaSoDN</th>\n",
       "      <th>TenDN</th>\n",
       "      <th>NgayCap</th>\n",
       "      <th>LoaiDN</th>\n",
       "      <th>DiaChi</th>\n",
       "      <th>NganhNghe</th>\n",
       "    </tr>\n",
       "  </thead>\n",
       "  <tbody>\n",
       "  </tbody>\n",
       "</table>\n",
       "</div>"
      ],
      "text/plain": [
       "Empty DataFrame\n",
       "Columns: [MaSoDN, TenDN, NgayCap, LoaiDN, DiaChi, NganhNghe]\n",
       "Index: []"
      ]
     },
     "execution_count": 17,
     "metadata": {},
     "output_type": "execute_result"
    }
   ],
   "source": [
    "active_corp[active_corp.MaSoDN == '0303490096']"
   ]
  },
  {
   "cell_type": "markdown",
   "id": "032a6862-b959-44cd-864a-f55becdfa64e",
   "metadata": {
    "jp-MarkdownHeadingCollapsed": true,
    "tags": []
   },
   "source": [
    "# Danh sách bổ sung"
   ]
  },
  {
   "cell_type": "code",
   "execution_count": 18,
   "id": "f460c0ad-1f2c-44a4-bd3b-480d9415c773",
   "metadata": {},
   "outputs": [],
   "source": [
    "# dsbs = pd.read_csv('../dataset/DN-HCM/DanhSachBoSung.csv')\n",
    "# dsbs.head()"
   ]
  },
  {
   "cell_type": "markdown",
   "id": "2238832e-e80a-4b09-8d91-aea50d10d616",
   "metadata": {
    "tags": []
   },
   "source": [
    "# Lấy data thuế"
   ]
  },
  {
   "cell_type": "markdown",
   "id": "f958718c-7cee-4ba2-9b25-2ee0523b7ba8",
   "metadata": {},
   "source": [
    "## Trang masothue"
   ]
  },
  {
   "cell_type": "code",
   "execution_count": 50,
   "id": "8251fc0a-b247-4bf5-8f18-36944dc8e0af",
   "metadata": {},
   "outputs": [],
   "source": [
    "url = 'https://masothue.com/'"
   ]
  },
  {
   "cell_type": "code",
   "execution_count": 51,
   "id": "5eb7a8c6-5a03-4a6e-bd32-06b27851b8c2",
   "metadata": {},
   "outputs": [],
   "source": [
    "# Khởi tạo trình duyệt\n",
    "driver = webdriver.Chrome()  # hoặc Edge(), Firefox(), tùy vào trình duyệt bạn có\n",
    "\n",
    "# Mở trang tra cứu\n",
    "driver.get(url)  # <-- thay bằng URL thật\n",
    "\n",
    "# Đợi trang load xong\n",
    "time.sleep(2)"
   ]
  },
  {
   "cell_type": "code",
   "execution_count": 52,
   "id": "01378b6d-26e5-4995-a2e9-1d5609f99a1f",
   "metadata": {},
   "outputs": [],
   "source": [
    "# Điền mã số thuế\n",
    "mst_input = driver.find_element(By.ID, 'search')  # hoặc By.NAME / By.XPATH tùy trang\n",
    "mst_input.send_keys('1801074887')"
   ]
  },
  {
   "cell_type": "code",
   "execution_count": 53,
   "id": "5b4e1a2e-4dfc-42dc-a6ac-593359cabf2d",
   "metadata": {},
   "outputs": [],
   "source": [
    "# Click nút tra cứu\n",
    "search_button = driver.find_element(By.ID, 'search')  # hoặc tìm theo class/xpath\n",
    "search_button.click()"
   ]
  },
  {
   "cell_type": "code",
   "execution_count": 54,
   "id": "a21c3f7e-9114-487b-8be8-2bedaaea6e79",
   "metadata": {},
   "outputs": [],
   "source": [
    "# Chờ kết quả hiển thị\n",
    "time.sleep(3)"
   ]
  },
  {
   "cell_type": "code",
   "execution_count": 55,
   "id": "636946cf-830e-41af-829c-453008516b30",
   "metadata": {},
   "outputs": [],
   "source": [
    "# Lấy kết quả trả về\n",
    "result = driver.find_element(By.CLASS_NAME, 'table-taxinfo')  # chỉnh lại class đúng\n",
    "# print(result.text)\n",
    "\n",
    "# # Đóng trình duyệt\n",
    "# driver.quit()\n"
   ]
  },
  {
   "cell_type": "code",
   "execution_count": 58,
   "id": "549e13d3-ba82-4f8d-a25c-eefc46f93aa8",
   "metadata": {},
   "outputs": [],
   "source": [
    "txt = result.text"
   ]
  },
  {
   "cell_type": "markdown",
   "id": "068cd44e-1eea-492f-917c-fcc7974088e5",
   "metadata": {},
   "source": [
    "'https://masothue.com/'"
   ]
  },
  {
   "cell_type": "code",
   "execution_count": 22,
   "id": "cd29b526-789e-4a13-8180-3f9b031fca57",
   "metadata": {},
   "outputs": [],
   "source": [
    "def get_data(mst):\n",
    "    # Điền mã số thuế\n",
    "    mst_input = driver.find_element(By.ID, 'search')  # hoặc By.NAME / By.XPATH tùy trang\n",
    "    mst_input.send_keys(mst)\n",
    "    # Click nút tra cứu\n",
    "    search_button = driver.find_element(By.ID, 'search')  # hoặc tìm theo class/xpath\n",
    "    search_button.click()\n",
    "    time.sleep(4)\n",
    "    # Lấy kết quả trả về\n",
    "    result = driver.find_element(By.CLASS_NAME, 'table-taxinfo')  # chỉnh lại class đúng\n",
    "    txt = result.text\n",
    "    return txt"
   ]
  },
  {
   "cell_type": "code",
   "execution_count": 120,
   "id": "1cbdf1e9-d149-4339-9d41-23bdda65e224",
   "metadata": {},
   "outputs": [
    {
     "ename": "KeyboardInterrupt",
     "evalue": "",
     "output_type": "error",
     "traceback": [
      "\u001b[1;31m---------------------------------------------------------------------------\u001b[0m",
      "\u001b[1;31mKeyboardInterrupt\u001b[0m                         Traceback (most recent call last)",
      "\u001b[1;32m~\\AppData\\Local\\Temp\\ipykernel_24928\\1798890000.py\u001b[0m in \u001b[0;36m<module>\u001b[1;34m\u001b[0m\n\u001b[0;32m     22\u001b[0m \u001b[1;32mfor\u001b[0m \u001b[0mmst\u001b[0m \u001b[1;32min\u001b[0m \u001b[0mli_mst\u001b[0m\u001b[1;33m:\u001b[0m\u001b[1;33m\u001b[0m\u001b[1;33m\u001b[0m\u001b[0m\n\u001b[0;32m     23\u001b[0m     \u001b[1;32mtry\u001b[0m\u001b[1;33m:\u001b[0m\u001b[1;33m\u001b[0m\u001b[1;33m\u001b[0m\u001b[0m\n\u001b[1;32m---> 24\u001b[1;33m         \u001b[0mdf\u001b[0m \u001b[1;33m=\u001b[0m \u001b[0mget_data\u001b[0m\u001b[1;33m(\u001b[0m\u001b[0mmst\u001b[0m\u001b[1;33m)\u001b[0m\u001b[1;33m\u001b[0m\u001b[1;33m\u001b[0m\u001b[0m\n\u001b[0m\u001b[0;32m     25\u001b[0m     \u001b[1;32mexcept\u001b[0m \u001b[0mException\u001b[0m \u001b[1;32mas\u001b[0m \u001b[0me\u001b[0m\u001b[1;33m:\u001b[0m\u001b[1;33m\u001b[0m\u001b[1;33m\u001b[0m\u001b[0m\n\u001b[0;32m     26\u001b[0m         \u001b[1;32mcontinue\u001b[0m  \u001b[1;31m# Bỏ qua vòng lặp này và tiếp tục\u001b[0m\u001b[1;33m\u001b[0m\u001b[1;33m\u001b[0m\u001b[0m\n",
      "\u001b[1;32m~\\AppData\\Local\\Temp\\ipykernel_24928\\366013535.py\u001b[0m in \u001b[0;36mget_data\u001b[1;34m(mst)\u001b[0m\n\u001b[0;32m      2\u001b[0m     \u001b[1;31m# Điền mã số thuế\u001b[0m\u001b[1;33m\u001b[0m\u001b[1;33m\u001b[0m\u001b[1;33m\u001b[0m\u001b[0m\n\u001b[0;32m      3\u001b[0m     \u001b[0mmst_input\u001b[0m \u001b[1;33m=\u001b[0m \u001b[0mdriver\u001b[0m\u001b[1;33m.\u001b[0m\u001b[0mfind_element\u001b[0m\u001b[1;33m(\u001b[0m\u001b[0mBy\u001b[0m\u001b[1;33m.\u001b[0m\u001b[0mID\u001b[0m\u001b[1;33m,\u001b[0m \u001b[1;34m'search'\u001b[0m\u001b[1;33m)\u001b[0m  \u001b[1;31m# hoặc By.NAME / By.XPATH tùy trang\u001b[0m\u001b[1;33m\u001b[0m\u001b[1;33m\u001b[0m\u001b[0m\n\u001b[1;32m----> 4\u001b[1;33m     \u001b[0mmst_input\u001b[0m\u001b[1;33m.\u001b[0m\u001b[0msend_keys\u001b[0m\u001b[1;33m(\u001b[0m\u001b[0mmst\u001b[0m\u001b[1;33m)\u001b[0m\u001b[1;33m\u001b[0m\u001b[1;33m\u001b[0m\u001b[0m\n\u001b[0m\u001b[0;32m      5\u001b[0m     \u001b[1;31m# Click nút tra cứu\u001b[0m\u001b[1;33m\u001b[0m\u001b[1;33m\u001b[0m\u001b[1;33m\u001b[0m\u001b[0m\n\u001b[0;32m      6\u001b[0m     \u001b[0msearch_button\u001b[0m \u001b[1;33m=\u001b[0m \u001b[0mdriver\u001b[0m\u001b[1;33m.\u001b[0m\u001b[0mfind_element\u001b[0m\u001b[1;33m(\u001b[0m\u001b[0mBy\u001b[0m\u001b[1;33m.\u001b[0m\u001b[0mID\u001b[0m\u001b[1;33m,\u001b[0m \u001b[1;34m'search'\u001b[0m\u001b[1;33m)\u001b[0m  \u001b[1;31m# hoặc tìm theo class/xpath\u001b[0m\u001b[1;33m\u001b[0m\u001b[1;33m\u001b[0m\u001b[0m\n",
      "\u001b[1;32m~\\anaconda3\\envs\\thuantran\\lib\\site-packages\\selenium\\webdriver\\remote\\webelement.py\u001b[0m in \u001b[0;36msend_keys\u001b[1;34m(self, *value)\u001b[0m\n\u001b[0;32m    230\u001b[0m \u001b[1;33m\u001b[0m\u001b[0m\n\u001b[0;32m    231\u001b[0m         self._execute(\n\u001b[1;32m--> 232\u001b[1;33m             \u001b[0mCommand\u001b[0m\u001b[1;33m.\u001b[0m\u001b[0mSEND_KEYS_TO_ELEMENT\u001b[0m\u001b[1;33m,\u001b[0m \u001b[1;33m{\u001b[0m\u001b[1;34m\"text\"\u001b[0m\u001b[1;33m:\u001b[0m \u001b[1;34m\"\"\u001b[0m\u001b[1;33m.\u001b[0m\u001b[0mjoin\u001b[0m\u001b[1;33m(\u001b[0m\u001b[0mkeys_to_typing\u001b[0m\u001b[1;33m(\u001b[0m\u001b[0mvalue\u001b[0m\u001b[1;33m)\u001b[0m\u001b[1;33m)\u001b[0m\u001b[1;33m,\u001b[0m \u001b[1;34m\"value\"\u001b[0m\u001b[1;33m:\u001b[0m \u001b[0mkeys_to_typing\u001b[0m\u001b[1;33m(\u001b[0m\u001b[0mvalue\u001b[0m\u001b[1;33m)\u001b[0m\u001b[1;33m}\u001b[0m\u001b[1;33m\u001b[0m\u001b[1;33m\u001b[0m\u001b[0m\n\u001b[0m\u001b[0;32m    233\u001b[0m         )\n\u001b[0;32m    234\u001b[0m \u001b[1;33m\u001b[0m\u001b[0m\n",
      "\u001b[1;32m~\\anaconda3\\envs\\thuantran\\lib\\site-packages\\selenium\\webdriver\\remote\\webelement.py\u001b[0m in \u001b[0;36m_execute\u001b[1;34m(self, command, params)\u001b[0m\n\u001b[0;32m    393\u001b[0m             \u001b[0mparams\u001b[0m \u001b[1;33m=\u001b[0m \u001b[1;33m{\u001b[0m\u001b[1;33m}\u001b[0m\u001b[1;33m\u001b[0m\u001b[1;33m\u001b[0m\u001b[0m\n\u001b[0;32m    394\u001b[0m         \u001b[0mparams\u001b[0m\u001b[1;33m[\u001b[0m\u001b[1;34m\"id\"\u001b[0m\u001b[1;33m]\u001b[0m \u001b[1;33m=\u001b[0m \u001b[0mself\u001b[0m\u001b[1;33m.\u001b[0m\u001b[0m_id\u001b[0m\u001b[1;33m\u001b[0m\u001b[1;33m\u001b[0m\u001b[0m\n\u001b[1;32m--> 395\u001b[1;33m         \u001b[1;32mreturn\u001b[0m \u001b[0mself\u001b[0m\u001b[1;33m.\u001b[0m\u001b[0m_parent\u001b[0m\u001b[1;33m.\u001b[0m\u001b[0mexecute\u001b[0m\u001b[1;33m(\u001b[0m\u001b[0mcommand\u001b[0m\u001b[1;33m,\u001b[0m \u001b[0mparams\u001b[0m\u001b[1;33m)\u001b[0m\u001b[1;33m\u001b[0m\u001b[1;33m\u001b[0m\u001b[0m\n\u001b[0m\u001b[0;32m    396\u001b[0m \u001b[1;33m\u001b[0m\u001b[0m\n\u001b[0;32m    397\u001b[0m     \u001b[1;32mdef\u001b[0m \u001b[0mfind_element\u001b[0m\u001b[1;33m(\u001b[0m\u001b[0mself\u001b[0m\u001b[1;33m,\u001b[0m \u001b[0mby\u001b[0m\u001b[1;33m=\u001b[0m\u001b[0mBy\u001b[0m\u001b[1;33m.\u001b[0m\u001b[0mID\u001b[0m\u001b[1;33m,\u001b[0m \u001b[0mvalue\u001b[0m\u001b[1;33m=\u001b[0m\u001b[1;32mNone\u001b[0m\u001b[1;33m)\u001b[0m \u001b[1;33m->\u001b[0m \u001b[0mWebElement\u001b[0m\u001b[1;33m:\u001b[0m\u001b[1;33m\u001b[0m\u001b[1;33m\u001b[0m\u001b[0m\n",
      "\u001b[1;32m~\\anaconda3\\envs\\thuantran\\lib\\site-packages\\selenium\\webdriver\\remote\\webdriver.py\u001b[0m in \u001b[0;36mexecute\u001b[1;34m(self, driver_command, params)\u001b[0m\n\u001b[0;32m    341\u001b[0m                 \u001b[0mparams\u001b[0m\u001b[1;33m[\u001b[0m\u001b[1;34m\"sessionId\"\u001b[0m\u001b[1;33m]\u001b[0m \u001b[1;33m=\u001b[0m \u001b[0mself\u001b[0m\u001b[1;33m.\u001b[0m\u001b[0msession_id\u001b[0m\u001b[1;33m\u001b[0m\u001b[1;33m\u001b[0m\u001b[0m\n\u001b[0;32m    342\u001b[0m \u001b[1;33m\u001b[0m\u001b[0m\n\u001b[1;32m--> 343\u001b[1;33m         \u001b[0mresponse\u001b[0m \u001b[1;33m=\u001b[0m \u001b[0mself\u001b[0m\u001b[1;33m.\u001b[0m\u001b[0mcommand_executor\u001b[0m\u001b[1;33m.\u001b[0m\u001b[0mexecute\u001b[0m\u001b[1;33m(\u001b[0m\u001b[0mdriver_command\u001b[0m\u001b[1;33m,\u001b[0m \u001b[0mparams\u001b[0m\u001b[1;33m)\u001b[0m\u001b[1;33m\u001b[0m\u001b[1;33m\u001b[0m\u001b[0m\n\u001b[0m\u001b[0;32m    344\u001b[0m         \u001b[1;32mif\u001b[0m \u001b[0mresponse\u001b[0m\u001b[1;33m:\u001b[0m\u001b[1;33m\u001b[0m\u001b[1;33m\u001b[0m\u001b[0m\n\u001b[0;32m    345\u001b[0m             \u001b[0mself\u001b[0m\u001b[1;33m.\u001b[0m\u001b[0merror_handler\u001b[0m\u001b[1;33m.\u001b[0m\u001b[0mcheck_response\u001b[0m\u001b[1;33m(\u001b[0m\u001b[0mresponse\u001b[0m\u001b[1;33m)\u001b[0m\u001b[1;33m\u001b[0m\u001b[1;33m\u001b[0m\u001b[0m\n",
      "\u001b[1;32m~\\anaconda3\\envs\\thuantran\\lib\\site-packages\\selenium\\webdriver\\remote\\remote_connection.py\u001b[0m in \u001b[0;36mexecute\u001b[1;34m(self, command, params)\u001b[0m\n\u001b[0;32m    289\u001b[0m         \u001b[0mdata\u001b[0m \u001b[1;33m=\u001b[0m \u001b[0mutils\u001b[0m\u001b[1;33m.\u001b[0m\u001b[0mdump_json\u001b[0m\u001b[1;33m(\u001b[0m\u001b[0mparams\u001b[0m\u001b[1;33m)\u001b[0m\u001b[1;33m\u001b[0m\u001b[1;33m\u001b[0m\u001b[0m\n\u001b[0;32m    290\u001b[0m         \u001b[0murl\u001b[0m \u001b[1;33m=\u001b[0m \u001b[1;34mf\"{self._url}{path}\"\u001b[0m\u001b[1;33m\u001b[0m\u001b[1;33m\u001b[0m\u001b[0m\n\u001b[1;32m--> 291\u001b[1;33m         \u001b[1;32mreturn\u001b[0m \u001b[0mself\u001b[0m\u001b[1;33m.\u001b[0m\u001b[0m_request\u001b[0m\u001b[1;33m(\u001b[0m\u001b[0mcommand_info\u001b[0m\u001b[1;33m[\u001b[0m\u001b[1;36m0\u001b[0m\u001b[1;33m]\u001b[0m\u001b[1;33m,\u001b[0m \u001b[0murl\u001b[0m\u001b[1;33m,\u001b[0m \u001b[0mbody\u001b[0m\u001b[1;33m=\u001b[0m\u001b[0mdata\u001b[0m\u001b[1;33m)\u001b[0m\u001b[1;33m\u001b[0m\u001b[1;33m\u001b[0m\u001b[0m\n\u001b[0m\u001b[0;32m    292\u001b[0m \u001b[1;33m\u001b[0m\u001b[0m\n\u001b[0;32m    293\u001b[0m     \u001b[1;32mdef\u001b[0m \u001b[0m_request\u001b[0m\u001b[1;33m(\u001b[0m\u001b[0mself\u001b[0m\u001b[1;33m,\u001b[0m \u001b[0mmethod\u001b[0m\u001b[1;33m,\u001b[0m \u001b[0murl\u001b[0m\u001b[1;33m,\u001b[0m \u001b[0mbody\u001b[0m\u001b[1;33m=\u001b[0m\u001b[1;32mNone\u001b[0m\u001b[1;33m)\u001b[0m\u001b[1;33m:\u001b[0m\u001b[1;33m\u001b[0m\u001b[1;33m\u001b[0m\u001b[0m\n",
      "\u001b[1;32m~\\anaconda3\\envs\\thuantran\\lib\\site-packages\\selenium\\webdriver\\remote\\remote_connection.py\u001b[0m in \u001b[0;36m_request\u001b[1;34m(self, method, url, body)\u001b[0m\n\u001b[0;32m    310\u001b[0m \u001b[1;33m\u001b[0m\u001b[0m\n\u001b[0;32m    311\u001b[0m         \u001b[1;32mif\u001b[0m \u001b[0mself\u001b[0m\u001b[1;33m.\u001b[0m\u001b[0mkeep_alive\u001b[0m\u001b[1;33m:\u001b[0m\u001b[1;33m\u001b[0m\u001b[1;33m\u001b[0m\u001b[0m\n\u001b[1;32m--> 312\u001b[1;33m             \u001b[0mresponse\u001b[0m \u001b[1;33m=\u001b[0m \u001b[0mself\u001b[0m\u001b[1;33m.\u001b[0m\u001b[0m_conn\u001b[0m\u001b[1;33m.\u001b[0m\u001b[0mrequest\u001b[0m\u001b[1;33m(\u001b[0m\u001b[0mmethod\u001b[0m\u001b[1;33m,\u001b[0m \u001b[0murl\u001b[0m\u001b[1;33m,\u001b[0m \u001b[0mbody\u001b[0m\u001b[1;33m=\u001b[0m\u001b[0mbody\u001b[0m\u001b[1;33m,\u001b[0m \u001b[0mheaders\u001b[0m\u001b[1;33m=\u001b[0m\u001b[0mheaders\u001b[0m\u001b[1;33m)\u001b[0m\u001b[1;33m\u001b[0m\u001b[1;33m\u001b[0m\u001b[0m\n\u001b[0m\u001b[0;32m    313\u001b[0m             \u001b[0mstatuscode\u001b[0m \u001b[1;33m=\u001b[0m \u001b[0mresponse\u001b[0m\u001b[1;33m.\u001b[0m\u001b[0mstatus\u001b[0m\u001b[1;33m\u001b[0m\u001b[1;33m\u001b[0m\u001b[0m\n\u001b[0;32m    314\u001b[0m         \u001b[1;32melse\u001b[0m\u001b[1;33m:\u001b[0m\u001b[1;33m\u001b[0m\u001b[1;33m\u001b[0m\u001b[0m\n",
      "\u001b[1;32m~\\anaconda3\\envs\\thuantran\\lib\\site-packages\\urllib3\\request.py\u001b[0m in \u001b[0;36mrequest\u001b[1;34m(self, method, url, fields, headers, **urlopen_kw)\u001b[0m\n\u001b[0;32m     77\u001b[0m         \u001b[1;32melse\u001b[0m\u001b[1;33m:\u001b[0m\u001b[1;33m\u001b[0m\u001b[1;33m\u001b[0m\u001b[0m\n\u001b[0;32m     78\u001b[0m             return self.request_encode_body(\n\u001b[1;32m---> 79\u001b[1;33m                 \u001b[0mmethod\u001b[0m\u001b[1;33m,\u001b[0m \u001b[0murl\u001b[0m\u001b[1;33m,\u001b[0m \u001b[0mfields\u001b[0m\u001b[1;33m=\u001b[0m\u001b[0mfields\u001b[0m\u001b[1;33m,\u001b[0m \u001b[0mheaders\u001b[0m\u001b[1;33m=\u001b[0m\u001b[0mheaders\u001b[0m\u001b[1;33m,\u001b[0m \u001b[1;33m**\u001b[0m\u001b[0murlopen_kw\u001b[0m\u001b[1;33m\u001b[0m\u001b[1;33m\u001b[0m\u001b[0m\n\u001b[0m\u001b[0;32m     80\u001b[0m             )\n\u001b[0;32m     81\u001b[0m \u001b[1;33m\u001b[0m\u001b[0m\n",
      "\u001b[1;32m~\\anaconda3\\envs\\thuantran\\lib\\site-packages\\urllib3\\request.py\u001b[0m in \u001b[0;36mrequest_encode_body\u001b[1;34m(self, method, url, fields, headers, encode_multipart, multipart_boundary, **urlopen_kw)\u001b[0m\n\u001b[0;32m    168\u001b[0m         \u001b[0mextra_kw\u001b[0m\u001b[1;33m.\u001b[0m\u001b[0mupdate\u001b[0m\u001b[1;33m(\u001b[0m\u001b[0murlopen_kw\u001b[0m\u001b[1;33m)\u001b[0m\u001b[1;33m\u001b[0m\u001b[1;33m\u001b[0m\u001b[0m\n\u001b[0;32m    169\u001b[0m \u001b[1;33m\u001b[0m\u001b[0m\n\u001b[1;32m--> 170\u001b[1;33m         \u001b[1;32mreturn\u001b[0m \u001b[0mself\u001b[0m\u001b[1;33m.\u001b[0m\u001b[0murlopen\u001b[0m\u001b[1;33m(\u001b[0m\u001b[0mmethod\u001b[0m\u001b[1;33m,\u001b[0m \u001b[0murl\u001b[0m\u001b[1;33m,\u001b[0m \u001b[1;33m**\u001b[0m\u001b[0mextra_kw\u001b[0m\u001b[1;33m)\u001b[0m\u001b[1;33m\u001b[0m\u001b[1;33m\u001b[0m\u001b[0m\n\u001b[0m",
      "\u001b[1;32m~\\anaconda3\\envs\\thuantran\\lib\\site-packages\\urllib3\\poolmanager.py\u001b[0m in \u001b[0;36murlopen\u001b[1;34m(self, method, url, redirect, **kw)\u001b[0m\n\u001b[0;32m    374\u001b[0m             \u001b[0mresponse\u001b[0m \u001b[1;33m=\u001b[0m \u001b[0mconn\u001b[0m\u001b[1;33m.\u001b[0m\u001b[0murlopen\u001b[0m\u001b[1;33m(\u001b[0m\u001b[0mmethod\u001b[0m\u001b[1;33m,\u001b[0m \u001b[0murl\u001b[0m\u001b[1;33m,\u001b[0m \u001b[1;33m**\u001b[0m\u001b[0mkw\u001b[0m\u001b[1;33m)\u001b[0m\u001b[1;33m\u001b[0m\u001b[1;33m\u001b[0m\u001b[0m\n\u001b[0;32m    375\u001b[0m         \u001b[1;32melse\u001b[0m\u001b[1;33m:\u001b[0m\u001b[1;33m\u001b[0m\u001b[1;33m\u001b[0m\u001b[0m\n\u001b[1;32m--> 376\u001b[1;33m             \u001b[0mresponse\u001b[0m \u001b[1;33m=\u001b[0m \u001b[0mconn\u001b[0m\u001b[1;33m.\u001b[0m\u001b[0murlopen\u001b[0m\u001b[1;33m(\u001b[0m\u001b[0mmethod\u001b[0m\u001b[1;33m,\u001b[0m \u001b[0mu\u001b[0m\u001b[1;33m.\u001b[0m\u001b[0mrequest_uri\u001b[0m\u001b[1;33m,\u001b[0m \u001b[1;33m**\u001b[0m\u001b[0mkw\u001b[0m\u001b[1;33m)\u001b[0m\u001b[1;33m\u001b[0m\u001b[1;33m\u001b[0m\u001b[0m\n\u001b[0m\u001b[0;32m    377\u001b[0m \u001b[1;33m\u001b[0m\u001b[0m\n\u001b[0;32m    378\u001b[0m         \u001b[0mredirect_location\u001b[0m \u001b[1;33m=\u001b[0m \u001b[0mredirect\u001b[0m \u001b[1;32mand\u001b[0m \u001b[0mresponse\u001b[0m\u001b[1;33m.\u001b[0m\u001b[0mget_redirect_location\u001b[0m\u001b[1;33m(\u001b[0m\u001b[1;33m)\u001b[0m\u001b[1;33m\u001b[0m\u001b[1;33m\u001b[0m\u001b[0m\n",
      "\u001b[1;32m~\\anaconda3\\envs\\thuantran\\lib\\site-packages\\urllib3\\connectionpool.py\u001b[0m in \u001b[0;36murlopen\u001b[1;34m(self, method, url, body, headers, retries, redirect, assert_same_host, timeout, pool_timeout, release_conn, chunked, body_pos, **response_kw)\u001b[0m\n\u001b[0;32m    708\u001b[0m                 \u001b[0mbody\u001b[0m\u001b[1;33m=\u001b[0m\u001b[0mbody\u001b[0m\u001b[1;33m,\u001b[0m\u001b[1;33m\u001b[0m\u001b[1;33m\u001b[0m\u001b[0m\n\u001b[0;32m    709\u001b[0m                 \u001b[0mheaders\u001b[0m\u001b[1;33m=\u001b[0m\u001b[0mheaders\u001b[0m\u001b[1;33m,\u001b[0m\u001b[1;33m\u001b[0m\u001b[1;33m\u001b[0m\u001b[0m\n\u001b[1;32m--> 710\u001b[1;33m                 \u001b[0mchunked\u001b[0m\u001b[1;33m=\u001b[0m\u001b[0mchunked\u001b[0m\u001b[1;33m,\u001b[0m\u001b[1;33m\u001b[0m\u001b[1;33m\u001b[0m\u001b[0m\n\u001b[0m\u001b[0;32m    711\u001b[0m             )\n\u001b[0;32m    712\u001b[0m \u001b[1;33m\u001b[0m\u001b[0m\n",
      "\u001b[1;32m~\\anaconda3\\envs\\thuantran\\lib\\site-packages\\urllib3\\connectionpool.py\u001b[0m in \u001b[0;36m_make_request\u001b[1;34m(self, conn, method, url, timeout, chunked, **httplib_request_kw)\u001b[0m\n\u001b[0;32m    447\u001b[0m                     \u001b[1;31m# Python 3 (including for exceptions like SystemExit).\u001b[0m\u001b[1;33m\u001b[0m\u001b[1;33m\u001b[0m\u001b[1;33m\u001b[0m\u001b[0m\n\u001b[0;32m    448\u001b[0m                     \u001b[1;31m# Otherwise it looks like a bug in the code.\u001b[0m\u001b[1;33m\u001b[0m\u001b[1;33m\u001b[0m\u001b[1;33m\u001b[0m\u001b[0m\n\u001b[1;32m--> 449\u001b[1;33m                     \u001b[0msix\u001b[0m\u001b[1;33m.\u001b[0m\u001b[0mraise_from\u001b[0m\u001b[1;33m(\u001b[0m\u001b[0me\u001b[0m\u001b[1;33m,\u001b[0m \u001b[1;32mNone\u001b[0m\u001b[1;33m)\u001b[0m\u001b[1;33m\u001b[0m\u001b[1;33m\u001b[0m\u001b[0m\n\u001b[0m\u001b[0;32m    450\u001b[0m         \u001b[1;32mexcept\u001b[0m \u001b[1;33m(\u001b[0m\u001b[0mSocketTimeout\u001b[0m\u001b[1;33m,\u001b[0m \u001b[0mBaseSSLError\u001b[0m\u001b[1;33m,\u001b[0m \u001b[0mSocketError\u001b[0m\u001b[1;33m)\u001b[0m \u001b[1;32mas\u001b[0m \u001b[0me\u001b[0m\u001b[1;33m:\u001b[0m\u001b[1;33m\u001b[0m\u001b[1;33m\u001b[0m\u001b[0m\n\u001b[0;32m    451\u001b[0m             \u001b[0mself\u001b[0m\u001b[1;33m.\u001b[0m\u001b[0m_raise_timeout\u001b[0m\u001b[1;33m(\u001b[0m\u001b[0merr\u001b[0m\u001b[1;33m=\u001b[0m\u001b[0me\u001b[0m\u001b[1;33m,\u001b[0m \u001b[0murl\u001b[0m\u001b[1;33m=\u001b[0m\u001b[0murl\u001b[0m\u001b[1;33m,\u001b[0m \u001b[0mtimeout_value\u001b[0m\u001b[1;33m=\u001b[0m\u001b[0mread_timeout\u001b[0m\u001b[1;33m)\u001b[0m\u001b[1;33m\u001b[0m\u001b[1;33m\u001b[0m\u001b[0m\n",
      "\u001b[1;32m~\\anaconda3\\envs\\thuantran\\lib\\site-packages\\urllib3\\packages\\six.py\u001b[0m in \u001b[0;36mraise_from\u001b[1;34m(value, from_value)\u001b[0m\n",
      "\u001b[1;32m~\\anaconda3\\envs\\thuantran\\lib\\site-packages\\urllib3\\connectionpool.py\u001b[0m in \u001b[0;36m_make_request\u001b[1;34m(self, conn, method, url, timeout, chunked, **httplib_request_kw)\u001b[0m\n\u001b[0;32m    442\u001b[0m                 \u001b[1;31m# Python 3\u001b[0m\u001b[1;33m\u001b[0m\u001b[1;33m\u001b[0m\u001b[1;33m\u001b[0m\u001b[0m\n\u001b[0;32m    443\u001b[0m                 \u001b[1;32mtry\u001b[0m\u001b[1;33m:\u001b[0m\u001b[1;33m\u001b[0m\u001b[1;33m\u001b[0m\u001b[0m\n\u001b[1;32m--> 444\u001b[1;33m                     \u001b[0mhttplib_response\u001b[0m \u001b[1;33m=\u001b[0m \u001b[0mconn\u001b[0m\u001b[1;33m.\u001b[0m\u001b[0mgetresponse\u001b[0m\u001b[1;33m(\u001b[0m\u001b[1;33m)\u001b[0m\u001b[1;33m\u001b[0m\u001b[1;33m\u001b[0m\u001b[0m\n\u001b[0m\u001b[0;32m    445\u001b[0m                 \u001b[1;32mexcept\u001b[0m \u001b[0mBaseException\u001b[0m \u001b[1;32mas\u001b[0m \u001b[0me\u001b[0m\u001b[1;33m:\u001b[0m\u001b[1;33m\u001b[0m\u001b[1;33m\u001b[0m\u001b[0m\n\u001b[0;32m    446\u001b[0m                     \u001b[1;31m# Remove the TypeError from the exception chain in\u001b[0m\u001b[1;33m\u001b[0m\u001b[1;33m\u001b[0m\u001b[1;33m\u001b[0m\u001b[0m\n",
      "\u001b[1;32m~\\anaconda3\\envs\\thuantran\\lib\\http\\client.py\u001b[0m in \u001b[0;36mgetresponse\u001b[1;34m(self)\u001b[0m\n\u001b[0;32m   1371\u001b[0m         \u001b[1;32mtry\u001b[0m\u001b[1;33m:\u001b[0m\u001b[1;33m\u001b[0m\u001b[1;33m\u001b[0m\u001b[0m\n\u001b[0;32m   1372\u001b[0m             \u001b[1;32mtry\u001b[0m\u001b[1;33m:\u001b[0m\u001b[1;33m\u001b[0m\u001b[1;33m\u001b[0m\u001b[0m\n\u001b[1;32m-> 1373\u001b[1;33m                 \u001b[0mresponse\u001b[0m\u001b[1;33m.\u001b[0m\u001b[0mbegin\u001b[0m\u001b[1;33m(\u001b[0m\u001b[1;33m)\u001b[0m\u001b[1;33m\u001b[0m\u001b[1;33m\u001b[0m\u001b[0m\n\u001b[0m\u001b[0;32m   1374\u001b[0m             \u001b[1;32mexcept\u001b[0m \u001b[0mConnectionError\u001b[0m\u001b[1;33m:\u001b[0m\u001b[1;33m\u001b[0m\u001b[1;33m\u001b[0m\u001b[0m\n\u001b[0;32m   1375\u001b[0m                 \u001b[0mself\u001b[0m\u001b[1;33m.\u001b[0m\u001b[0mclose\u001b[0m\u001b[1;33m(\u001b[0m\u001b[1;33m)\u001b[0m\u001b[1;33m\u001b[0m\u001b[1;33m\u001b[0m\u001b[0m\n",
      "\u001b[1;32m~\\anaconda3\\envs\\thuantran\\lib\\http\\client.py\u001b[0m in \u001b[0;36mbegin\u001b[1;34m(self)\u001b[0m\n\u001b[0;32m    317\u001b[0m         \u001b[1;31m# read until we get a non-100 response\u001b[0m\u001b[1;33m\u001b[0m\u001b[1;33m\u001b[0m\u001b[1;33m\u001b[0m\u001b[0m\n\u001b[0;32m    318\u001b[0m         \u001b[1;32mwhile\u001b[0m \u001b[1;32mTrue\u001b[0m\u001b[1;33m:\u001b[0m\u001b[1;33m\u001b[0m\u001b[1;33m\u001b[0m\u001b[0m\n\u001b[1;32m--> 319\u001b[1;33m             \u001b[0mversion\u001b[0m\u001b[1;33m,\u001b[0m \u001b[0mstatus\u001b[0m\u001b[1;33m,\u001b[0m \u001b[0mreason\u001b[0m \u001b[1;33m=\u001b[0m \u001b[0mself\u001b[0m\u001b[1;33m.\u001b[0m\u001b[0m_read_status\u001b[0m\u001b[1;33m(\u001b[0m\u001b[1;33m)\u001b[0m\u001b[1;33m\u001b[0m\u001b[1;33m\u001b[0m\u001b[0m\n\u001b[0m\u001b[0;32m    320\u001b[0m             \u001b[1;32mif\u001b[0m \u001b[0mstatus\u001b[0m \u001b[1;33m!=\u001b[0m \u001b[0mCONTINUE\u001b[0m\u001b[1;33m:\u001b[0m\u001b[1;33m\u001b[0m\u001b[1;33m\u001b[0m\u001b[0m\n\u001b[0;32m    321\u001b[0m                 \u001b[1;32mbreak\u001b[0m\u001b[1;33m\u001b[0m\u001b[1;33m\u001b[0m\u001b[0m\n",
      "\u001b[1;32m~\\anaconda3\\envs\\thuantran\\lib\\http\\client.py\u001b[0m in \u001b[0;36m_read_status\u001b[1;34m(self)\u001b[0m\n\u001b[0;32m    278\u001b[0m \u001b[1;33m\u001b[0m\u001b[0m\n\u001b[0;32m    279\u001b[0m     \u001b[1;32mdef\u001b[0m \u001b[0m_read_status\u001b[0m\u001b[1;33m(\u001b[0m\u001b[0mself\u001b[0m\u001b[1;33m)\u001b[0m\u001b[1;33m:\u001b[0m\u001b[1;33m\u001b[0m\u001b[1;33m\u001b[0m\u001b[0m\n\u001b[1;32m--> 280\u001b[1;33m         \u001b[0mline\u001b[0m \u001b[1;33m=\u001b[0m \u001b[0mstr\u001b[0m\u001b[1;33m(\u001b[0m\u001b[0mself\u001b[0m\u001b[1;33m.\u001b[0m\u001b[0mfp\u001b[0m\u001b[1;33m.\u001b[0m\u001b[0mreadline\u001b[0m\u001b[1;33m(\u001b[0m\u001b[0m_MAXLINE\u001b[0m \u001b[1;33m+\u001b[0m \u001b[1;36m1\u001b[0m\u001b[1;33m)\u001b[0m\u001b[1;33m,\u001b[0m \u001b[1;34m\"iso-8859-1\"\u001b[0m\u001b[1;33m)\u001b[0m\u001b[1;33m\u001b[0m\u001b[1;33m\u001b[0m\u001b[0m\n\u001b[0m\u001b[0;32m    281\u001b[0m         \u001b[1;32mif\u001b[0m \u001b[0mlen\u001b[0m\u001b[1;33m(\u001b[0m\u001b[0mline\u001b[0m\u001b[1;33m)\u001b[0m \u001b[1;33m>\u001b[0m \u001b[0m_MAXLINE\u001b[0m\u001b[1;33m:\u001b[0m\u001b[1;33m\u001b[0m\u001b[1;33m\u001b[0m\u001b[0m\n\u001b[0;32m    282\u001b[0m             \u001b[1;32mraise\u001b[0m \u001b[0mLineTooLong\u001b[0m\u001b[1;33m(\u001b[0m\u001b[1;34m\"status line\"\u001b[0m\u001b[1;33m)\u001b[0m\u001b[1;33m\u001b[0m\u001b[1;33m\u001b[0m\u001b[0m\n",
      "\u001b[1;32m~\\anaconda3\\envs\\thuantran\\lib\\socket.py\u001b[0m in \u001b[0;36mreadinto\u001b[1;34m(self, b)\u001b[0m\n\u001b[0;32m    587\u001b[0m         \u001b[1;32mwhile\u001b[0m \u001b[1;32mTrue\u001b[0m\u001b[1;33m:\u001b[0m\u001b[1;33m\u001b[0m\u001b[1;33m\u001b[0m\u001b[0m\n\u001b[0;32m    588\u001b[0m             \u001b[1;32mtry\u001b[0m\u001b[1;33m:\u001b[0m\u001b[1;33m\u001b[0m\u001b[1;33m\u001b[0m\u001b[0m\n\u001b[1;32m--> 589\u001b[1;33m                 \u001b[1;32mreturn\u001b[0m \u001b[0mself\u001b[0m\u001b[1;33m.\u001b[0m\u001b[0m_sock\u001b[0m\u001b[1;33m.\u001b[0m\u001b[0mrecv_into\u001b[0m\u001b[1;33m(\u001b[0m\u001b[0mb\u001b[0m\u001b[1;33m)\u001b[0m\u001b[1;33m\u001b[0m\u001b[1;33m\u001b[0m\u001b[0m\n\u001b[0m\u001b[0;32m    590\u001b[0m             \u001b[1;32mexcept\u001b[0m \u001b[0mtimeout\u001b[0m\u001b[1;33m:\u001b[0m\u001b[1;33m\u001b[0m\u001b[1;33m\u001b[0m\u001b[0m\n\u001b[0;32m    591\u001b[0m                 \u001b[0mself\u001b[0m\u001b[1;33m.\u001b[0m\u001b[0m_timeout_occurred\u001b[0m \u001b[1;33m=\u001b[0m \u001b[1;32mTrue\u001b[0m\u001b[1;33m\u001b[0m\u001b[1;33m\u001b[0m\u001b[0m\n",
      "\u001b[1;31mKeyboardInterrupt\u001b[0m: "
     ]
    }
   ],
   "source": [
    "# Khởi tạo trình duyệt\n",
    "url = 'https://masothue.com/'\n",
    "driver = webdriver.Chrome()  # hoặc Edge(), Firefox(), tùy vào trình duyệt bạn có\n",
    "\n",
    "# Mở trang tra cứu\n",
    "driver.get(url)  # <-- thay bằng URL thật\n",
    "\n",
    "# Đợi trang load xong\n",
    "time.sleep(2)\n",
    "col_name = ['Mã số thuế', 'Ngày hoạt động', 'Ngành nghề chính']\n",
    "dic_result = {'Tên DN': [pd.NA]*30, col_name[0]: [pd.NA]*30, col_name[1]: [pd.NA]*30, col_name[2]: [pd.NA]*30}\n",
    "count = 0\n",
    "\n",
    "\n",
    "file_list = glob.glob(\"../dataset/bankruptcy_collect/*.csv\")\n",
    "df_all = pd.concat([pd.read_csv(file, dtype='unicode') for file in file_list], ignore_index=True)\n",
    "li_excl = list(df_all['Mã số thuế'].unique())\n",
    "li_mst = list(bankruptcy_corp['Mã số thuế'].unique())\n",
    "for m in li_excl:\n",
    "    li_mst.remove(m)\n",
    "\n",
    "for mst in li_mst:\n",
    "    try:\n",
    "        df = get_data(mst)\n",
    "    except Exception as e:\n",
    "        continue  # Bỏ qua vòng lặp này và tiếp tục\n",
    "    data_tax = df.split('\\n')\n",
    "    dic_result['Tên DN'][count] = data_tax[0]\n",
    "    for i in col_name:\n",
    "        for j in data_tax:\n",
    "            if j.find(i) != -1:\n",
    "                    dic_result[i][count] = j.split(f'{i} ')[1]\n",
    "                    break\n",
    "            else:\n",
    "                 pass\n",
    "    count +=1\n",
    "    if count % 29 == 0:\n",
    "        pd_df = pd.DataFrame(dic_result)\n",
    "        pd_df.to_csv(f'../dataset/bankruptcy_collect/bankruptcy_corp_{mst}.csv', index=False)\n",
    "        count = 0\n",
    "        driver.get(url) # load lại trang\n",
    "        # Đợi trang load xong\n",
    "        time.sleep(2)\n",
    "    else:\n",
    "        pass"
   ]
  },
  {
   "cell_type": "code",
   "execution_count": 112,
   "id": "effcb774-7d3d-4782-87ad-72000ad188f2",
   "metadata": {},
   "outputs": [
    {
     "data": {
      "text/plain": [
       "30"
      ]
     },
     "execution_count": 112,
     "metadata": {},
     "output_type": "execute_result"
    }
   ],
   "source": [
    "len(dic_result['Tên DN'])"
   ]
  },
  {
   "cell_type": "code",
   "execution_count": 119,
   "id": "5a57c6d1-8c7f-4468-bcca-5db47bbba33c",
   "metadata": {},
   "outputs": [],
   "source": [
    "pd_df = pd.DataFrame(dic_result)\n",
    "pd_df.to_csv(f'../dataset/bankruptcy_collect/bankruptcy_corp_{mst}.csv', index=False)"
   ]
  },
  {
   "cell_type": "code",
   "execution_count": 121,
   "id": "a4da8eef-06b8-472e-be93-78d29fe827a3",
   "metadata": {},
   "outputs": [],
   "source": [
    "file_list = glob.glob(\"../dataset/bankruptcy_collect/*.csv\")\n",
    "df_all = pd.concat([pd.read_csv(file, dtype='unicode') for file in file_list], ignore_index=True)"
   ]
  },
  {
   "cell_type": "code",
   "execution_count": 124,
   "id": "d437a7de-d365-4710-a8ec-876692d7e981",
   "metadata": {},
   "outputs": [
    {
     "data": {
      "text/plain": [
       "636"
      ]
     },
     "execution_count": 124,
     "metadata": {},
     "output_type": "execute_result"
    }
   ],
   "source": [
    "df_all['Mã số thuế'].nunique()"
   ]
  },
  {
   "cell_type": "code",
   "execution_count": 129,
   "id": "3a76ee62-e1a4-4e72-9835-e96e4b5fdc39",
   "metadata": {},
   "outputs": [
    {
     "data": {
      "text/plain": [
       "''"
      ]
     },
     "execution_count": 129,
     "metadata": {},
     "output_type": "execute_result"
    }
   ],
   "source": [
    "df"
   ]
  },
  {
   "cell_type": "code",
   "execution_count": null,
   "id": "f06bb55f-2890-444e-a2f5-32aa5bd3420e",
   "metadata": {},
   "outputs": [],
   "source": []
  }
 ],
 "metadata": {
  "kernelspec": {
   "display_name": "Python 3 (ipykernel)",
   "language": "python",
   "name": "python3"
  },
  "language_info": {
   "codemirror_mode": {
    "name": "ipython",
    "version": 3
   },
   "file_extension": ".py",
   "mimetype": "text/x-python",
   "name": "python",
   "nbconvert_exporter": "python",
   "pygments_lexer": "ipython3",
   "version": "3.7.16"
  }
 },
 "nbformat": 4,
 "nbformat_minor": 5
}
