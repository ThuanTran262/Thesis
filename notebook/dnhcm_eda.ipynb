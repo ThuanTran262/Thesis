{
 "cells": [
  {
   "cell_type": "code",
   "execution_count": 3,
   "id": "cd1a29b3-43c4-4374-92b8-5aea8fe09345",
   "metadata": {},
   "outputs": [],
   "source": [
    "import pandas as pd"
   ]
  },
  {
   "cell_type": "markdown",
   "id": "2b078ec0-403a-4ccf-8960-09ef6acbde3e",
   "metadata": {
    "jp-MarkdownHeadingCollapsed": true
   },
   "source": [
    "# Doanh nghiệp giải thể"
   ]
  },
  {
   "cell_type": "code",
   "execution_count": 4,
   "id": "b013eb44-33ac-4e54-9a48-15bca439b13e",
   "metadata": {},
   "outputs": [
    {
     "data": {
      "text/html": [
       "<div>\n",
       "<style scoped>\n",
       "    .dataframe tbody tr th:only-of-type {\n",
       "        vertical-align: middle;\n",
       "    }\n",
       "\n",
       "    .dataframe tbody tr th {\n",
       "        vertical-align: top;\n",
       "    }\n",
       "\n",
       "    .dataframe thead th {\n",
       "        text-align: right;\n",
       "    }\n",
       "</style>\n",
       "<table border=\"1\" class=\"dataframe\">\n",
       "  <thead>\n",
       "    <tr style=\"text-align: right;\">\n",
       "      <th></th>\n",
       "      <th>Số thứ tự</th>\n",
       "      <th>Mã số thuế</th>\n",
       "      <th>Tên doanh nghiệp</th>\n",
       "      <th>Loại hình doanh nghiệp</th>\n",
       "      <th>Địa chỉ trụ sở</th>\n",
       "      <th>Ngành cấp I</th>\n",
       "      <th>Tình trạng</th>\n",
       "      <th>Lý do</th>\n",
       "      <th>Ngày giải thể</th>\n",
       "    </tr>\n",
       "  </thead>\n",
       "  <tbody>\n",
       "    <tr>\n",
       "      <th>0</th>\n",
       "      <td>1</td>\n",
       "      <td>1801074887</td>\n",
       "      <td>CÔNG TY CỔ PHẦN TƯ VẤN ĐẦU TƯ VIỆT THẮNG</td>\n",
       "      <td>Công ty cổ phần</td>\n",
       "      <td>Phòng 11-1, tầng 11, tòa nhà Gilimex, số 24C P...</td>\n",
       "      <td>HOẠT ĐỘNG TÀI CHÍNH, NGÂN HÀNG VÀ BẢO HIỂM</td>\n",
       "      <td>Đã giải thể, phá sản, chấm dứt tồn tại</td>\n",
       "      <td>Công ty hoạt động không hiệu quả</td>\n",
       "      <td>26/01/2016</td>\n",
       "    </tr>\n",
       "    <tr>\n",
       "      <th>1</th>\n",
       "      <td>2</td>\n",
       "      <td>0306021825</td>\n",
       "      <td>CÔNG TY TNHH XUẤT NHẬP KHẨU HƯNG LONG</td>\n",
       "      <td>Công ty trách nhiệm hữu hạn hai thành viên trở...</td>\n",
       "      <td>2D Nguyễn Hiến Lê, Phường 13, Quận Tân Bình, T...</td>\n",
       "      <td>HOẠT ĐỘNG CHUYÊN MÔN, KHOA HỌC VÀ CÔNG NGHỆ</td>\n",
       "      <td>Đã giải thể, phá sản, chấm dứt tồn tại</td>\n",
       "      <td>kinh doanh không hiệu quả</td>\n",
       "      <td>10/06/2017</td>\n",
       "    </tr>\n",
       "    <tr>\n",
       "      <th>2</th>\n",
       "      <td>3</td>\n",
       "      <td>0309431731</td>\n",
       "      <td>CÔNG TY TNHH ĐẦU TƯ RỪNG XANH</td>\n",
       "      <td>Công ty trách nhiệm hữu hạn hai thành viên trở...</td>\n",
       "      <td>232 Trần Hưng Đạo, Phường Nguyễn Cư Trinh, Quậ...</td>\n",
       "      <td>NaN</td>\n",
       "      <td>Đã giải thể, phá sản, chấm dứt tồn tại</td>\n",
       "      <td>Doanh nghiệp kinh doanh không hiệu quả.</td>\n",
       "      <td>12/01/2018</td>\n",
       "    </tr>\n",
       "    <tr>\n",
       "      <th>3</th>\n",
       "      <td>4</td>\n",
       "      <td>0309781775</td>\n",
       "      <td>CÔNG TY TNHH THƯƠNG MẠI DỊCH VỤ ĐẦU TƯ XÂY DỰN...</td>\n",
       "      <td>Công ty trách nhiệm hữu hạn hai thành viên trở...</td>\n",
       "      <td>96/4 Đường D1, Phường 25, Quận Bình Thạnh, Thà...</td>\n",
       "      <td>XÂY DỰNG</td>\n",
       "      <td>Đã giải thể, phá sản, chấm dứt tồn tại</td>\n",
       "      <td>Hoạt động không hiệu quả</td>\n",
       "      <td>05/02/2016</td>\n",
       "    </tr>\n",
       "    <tr>\n",
       "      <th>4</th>\n",
       "      <td>5</td>\n",
       "      <td>0310227642</td>\n",
       "      <td>CÔNG TY TNHH THƯƠNG MẠI DỊCH VỤ H.A.T</td>\n",
       "      <td>Công ty trách nhiệm hữu hạn hai thành viên trở...</td>\n",
       "      <td>số 292/33/44D Bình Lợi, Phường 13, Quận Bình T...</td>\n",
       "      <td>NaN</td>\n",
       "      <td>Đã giải thể, phá sản, chấm dứt tồn tại</td>\n",
       "      <td>không thực hiên được kế hoạch kinh doanh</td>\n",
       "      <td>06/10/2017</td>\n",
       "    </tr>\n",
       "  </tbody>\n",
       "</table>\n",
       "</div>"
      ],
      "text/plain": [
       "  Số thứ tự  Mã số thuế                                   Tên doanh nghiệp  \\\n",
       "0         1  1801074887           CÔNG TY CỔ PHẦN TƯ VẤN ĐẦU TƯ VIỆT THẮNG   \n",
       "1         2  0306021825              CÔNG TY TNHH XUẤT NHẬP KHẨU HƯNG LONG   \n",
       "2         3  0309431731                      CÔNG TY TNHH ĐẦU TƯ RỪNG XANH   \n",
       "3         4  0309781775  CÔNG TY TNHH THƯƠNG MẠI DỊCH VỤ ĐẦU TƯ XÂY DỰN...   \n",
       "4         5  0310227642              CÔNG TY TNHH THƯƠNG MẠI DỊCH VỤ H.A.T   \n",
       "\n",
       "                              Loại hình doanh nghiệp  \\\n",
       "0                                    Công ty cổ phần   \n",
       "1  Công ty trách nhiệm hữu hạn hai thành viên trở...   \n",
       "2  Công ty trách nhiệm hữu hạn hai thành viên trở...   \n",
       "3  Công ty trách nhiệm hữu hạn hai thành viên trở...   \n",
       "4  Công ty trách nhiệm hữu hạn hai thành viên trở...   \n",
       "\n",
       "                                      Địa chỉ trụ sở  \\\n",
       "0  Phòng 11-1, tầng 11, tòa nhà Gilimex, số 24C P...   \n",
       "1  2D Nguyễn Hiến Lê, Phường 13, Quận Tân Bình, T...   \n",
       "2  232 Trần Hưng Đạo, Phường Nguyễn Cư Trinh, Quậ...   \n",
       "3  96/4 Đường D1, Phường 25, Quận Bình Thạnh, Thà...   \n",
       "4  số 292/33/44D Bình Lợi, Phường 13, Quận Bình T...   \n",
       "\n",
       "                                   Ngành cấp I  \\\n",
       "0   HOẠT ĐỘNG TÀI CHÍNH, NGÂN HÀNG VÀ BẢO HIỂM   \n",
       "1  HOẠT ĐỘNG CHUYÊN MÔN, KHOA HỌC VÀ CÔNG NGHỆ   \n",
       "2                                          NaN   \n",
       "3                                     XÂY DỰNG   \n",
       "4                                          NaN   \n",
       "\n",
       "                               Tình trạng  \\\n",
       "0  Đã giải thể, phá sản, chấm dứt tồn tại   \n",
       "1  Đã giải thể, phá sản, chấm dứt tồn tại   \n",
       "2  Đã giải thể, phá sản, chấm dứt tồn tại   \n",
       "3  Đã giải thể, phá sản, chấm dứt tồn tại   \n",
       "4  Đã giải thể, phá sản, chấm dứt tồn tại   \n",
       "\n",
       "                                      Lý do Ngày giải thể  \n",
       "0          Công ty hoạt động không hiệu quả    26/01/2016  \n",
       "1                 kinh doanh không hiệu quả    10/06/2017  \n",
       "2   Doanh nghiệp kinh doanh không hiệu quả.    12/01/2018  \n",
       "3                  Hoạt động không hiệu quả    05/02/2016  \n",
       "4  không thực hiên được kế hoạch kinh doanh    06/10/2017  "
      ]
     },
     "execution_count": 4,
     "metadata": {},
     "output_type": "execute_result"
    }
   ],
   "source": [
    "bankruptcy_corp = pd.read_csv('../dataset/DN-HCM/DanhSachDaGiaiThe (2).csv', dtype='unicode')\n",
    "bankruptcy_corp.head()"
   ]
  },
  {
   "cell_type": "code",
   "execution_count": 5,
   "id": "7f332695-ceb2-48e2-8cba-045806f23ca6",
   "metadata": {},
   "outputs": [
    {
     "data": {
      "text/plain": [
       "(25709, 9)"
      ]
     },
     "execution_count": 5,
     "metadata": {},
     "output_type": "execute_result"
    }
   ],
   "source": [
    "bankruptcy_corp.shape"
   ]
  },
  {
   "cell_type": "code",
   "execution_count": 6,
   "id": "7af67135-a24a-4c2c-bdf4-608219a36a4e",
   "metadata": {},
   "outputs": [
    {
     "data": {
      "text/plain": [
       "Số thứ tự                 0.000000\n",
       "Mã số thuế                0.003890\n",
       "Tên doanh nghiệp          0.000000\n",
       "Loại hình doanh nghiệp    0.000000\n",
       "Địa chỉ trụ sở            0.000000\n",
       "Ngành cấp I               8.281147\n",
       "Tình trạng                0.000000\n",
       "Lý do                     0.116691\n",
       "Ngày giải thể             0.000000\n",
       "dtype: float64"
      ]
     },
     "execution_count": 6,
     "metadata": {},
     "output_type": "execute_result"
    }
   ],
   "source": [
    "bankruptcy_corp.isnull().sum()*100/bankruptcy_corp.shape[0]"
   ]
  },
  {
   "cell_type": "code",
   "execution_count": 7,
   "id": "11904246-be48-454d-8393-14ff84fee8cb",
   "metadata": {},
   "outputs": [
    {
     "data": {
      "text/plain": [
       "Loại hình doanh nghiệp\n",
       "Công ty trách nhiệm hữu hạn một thành viên            12370\n",
       "Công ty trách nhiệm hữu hạn hai thành viên trở lên     8861\n",
       "Công ty cổ phần                                        3487\n",
       "Doanh nghiệp tư nhân                                    984\n",
       "Công ty hợp danh                                          7\n",
       "Name: count, dtype: int64"
      ]
     },
     "execution_count": 7,
     "metadata": {},
     "output_type": "execute_result"
    }
   ],
   "source": [
    "bankruptcy_corp['Loại hình doanh nghiệp'].value_counts()"
   ]
  },
  {
   "cell_type": "code",
   "execution_count": 8,
   "id": "b2958df0-74b8-4843-95ed-9ed91b4546da",
   "metadata": {},
   "outputs": [
    {
     "data": {
      "text/plain": [
       "Loại hình doanh nghiệp\n",
       "Công ty trách nhiệm hữu hạn một thành viên            48.115446\n",
       "Công ty trách nhiệm hữu hạn hai thành viên trở lên    34.466529\n",
       "Công ty cổ phần                                       13.563344\n",
       "Doanh nghiệp tư nhân                                   3.827453\n",
       "Công ty hợp danh                                       0.027228\n",
       "Name: count, dtype: float64"
      ]
     },
     "execution_count": 8,
     "metadata": {},
     "output_type": "execute_result"
    }
   ],
   "source": [
    "bankruptcy_corp['Loại hình doanh nghiệp'].value_counts()*100/bankruptcy_corp.shape[0]"
   ]
  },
  {
   "cell_type": "code",
   "execution_count": 9,
   "id": "aef9f609-d0dd-49c2-a168-d5fd03590476",
   "metadata": {},
   "outputs": [
    {
     "data": {
      "text/plain": [
       "'01/02/2016'"
      ]
     },
     "execution_count": 9,
     "metadata": {},
     "output_type": "execute_result"
    }
   ],
   "source": [
    "bankruptcy_corp['Ngày giải thể'].min()"
   ]
  },
  {
   "cell_type": "code",
   "execution_count": 10,
   "id": "0373744b-b252-4951-8bc0-e0cea16b8a11",
   "metadata": {},
   "outputs": [
    {
     "data": {
      "text/plain": [
       "'31/12/2020'"
      ]
     },
     "execution_count": 10,
     "metadata": {},
     "output_type": "execute_result"
    }
   ],
   "source": [
    "bankruptcy_corp['Ngày giải thể'].max()"
   ]
  },
  {
   "cell_type": "markdown",
   "id": "df21f598-c105-4404-9bb3-26e47d44c274",
   "metadata": {
    "jp-MarkdownHeadingCollapsed": true
   },
   "source": [
    "# Doanh nghiệp hoạt động"
   ]
  },
  {
   "cell_type": "code",
   "execution_count": 11,
   "id": "d974fb99-96a1-4d10-b83f-e975ff217468",
   "metadata": {},
   "outputs": [
    {
     "data": {
      "text/html": [
       "<div>\n",
       "<style scoped>\n",
       "    .dataframe tbody tr th:only-of-type {\n",
       "        vertical-align: middle;\n",
       "    }\n",
       "\n",
       "    .dataframe tbody tr th {\n",
       "        vertical-align: top;\n",
       "    }\n",
       "\n",
       "    .dataframe thead th {\n",
       "        text-align: right;\n",
       "    }\n",
       "</style>\n",
       "<table border=\"1\" class=\"dataframe\">\n",
       "  <thead>\n",
       "    <tr style=\"text-align: right;\">\n",
       "      <th></th>\n",
       "      <th>MaSoDN</th>\n",
       "      <th>TenDN</th>\n",
       "      <th>NgayCap</th>\n",
       "      <th>LoaiDN</th>\n",
       "      <th>DiaChi</th>\n",
       "      <th>NganhNghe</th>\n",
       "    </tr>\n",
       "  </thead>\n",
       "  <tbody>\n",
       "    <tr>\n",
       "      <th>0</th>\n",
       "      <td>0313597320</td>\n",
       "      <td>CÔNG TY TNHH LAVITA</td>\n",
       "      <td>04/01/2016</td>\n",
       "      <td>Công ty trách nhiệm hữu hạn hai thành viên trở...</td>\n",
       "      <td>32-Đ6 Sài Gòn Pearl Villas-92 Nguyễn Hữu Cảnh,...</td>\n",
       "      <td>1621: Sản xuất gỗ dán, gỗ lạng, ván ép và ván ...</td>\n",
       "    </tr>\n",
       "    <tr>\n",
       "      <th>1</th>\n",
       "      <td>0313597507</td>\n",
       "      <td>CÔNG TY TNHH ĐẦU TƯ PHÁT TRIỂN KHÁCH SẠN SÀI GÒN</td>\n",
       "      <td>04/01/2016</td>\n",
       "      <td>Công ty trách nhiệm hữu hạn một thành viên</td>\n",
       "      <td>Số 1122/1 Quang Trung, Phường 8, Quận Gò Vấp, ...</td>\n",
       "      <td>5510: Dịch vụ lưu trú ngắn ngày--Chi tiết: Kin...</td>\n",
       "    </tr>\n",
       "    <tr>\n",
       "      <th>2</th>\n",
       "      <td>0313587386</td>\n",
       "      <td>CÔNG TY TRÁCH NHIỆM HỮU HẠN MỘT THÀNH VIÊN DỊC...</td>\n",
       "      <td>01/01/2016</td>\n",
       "      <td>Công ty trách nhiệm hữu hạn một thành viên</td>\n",
       "      <td>Số 49 Trường Sơn, Phường 2, Quận Tân Bình, Thà...</td>\n",
       "      <td>8559: Giáo dục khác chưa được phân vào đâu-Chi...</td>\n",
       "    </tr>\n",
       "    <tr>\n",
       "      <th>3</th>\n",
       "      <td>0313599208</td>\n",
       "      <td>DOANH NGHIỆP TƯ NHÂN THƯƠNG MẠI VÀNG BẠC ĐÁ QU...</td>\n",
       "      <td>04/01/2016</td>\n",
       "      <td>Doanh nghiệp tư nhân</td>\n",
       "      <td>169 Đường liên khu 4-5, Phường Bình Hưng Hòa B...</td>\n",
       "      <td>3211: Sản xuất đồ kim hoàn và chi tiết liên qu...</td>\n",
       "    </tr>\n",
       "    <tr>\n",
       "      <th>4</th>\n",
       "      <td>0313640209</td>\n",
       "      <td>CÔNG TY TNHH THƯƠNG MẠI THIÊN NHẬT PHÁT</td>\n",
       "      <td>28/01/2016</td>\n",
       "      <td>Công ty trách nhiệm hữu hạn một thành viên</td>\n",
       "      <td>186 Lưu Hữu Phước, Phường 15, Quận 8, Thành ph...</td>\n",
       "      <td>2592: Gia công cơ khí; xử lý và tráng phủ kim ...</td>\n",
       "    </tr>\n",
       "  </tbody>\n",
       "</table>\n",
       "</div>"
      ],
      "text/plain": [
       "       MaSoDN                                              TenDN     NgayCap  \\\n",
       "0  0313597320                                CÔNG TY TNHH LAVITA  04/01/2016   \n",
       "1  0313597507   CÔNG TY TNHH ĐẦU TƯ PHÁT TRIỂN KHÁCH SẠN SÀI GÒN  04/01/2016   \n",
       "2  0313587386  CÔNG TY TRÁCH NHIỆM HỮU HẠN MỘT THÀNH VIÊN DỊC...  01/01/2016   \n",
       "3  0313599208  DOANH NGHIỆP TƯ NHÂN THƯƠNG MẠI VÀNG BẠC ĐÁ QU...  04/01/2016   \n",
       "4  0313640209            CÔNG TY TNHH THƯƠNG MẠI THIÊN NHẬT PHÁT  28/01/2016   \n",
       "\n",
       "                                              LoaiDN  \\\n",
       "0  Công ty trách nhiệm hữu hạn hai thành viên trở...   \n",
       "1         Công ty trách nhiệm hữu hạn một thành viên   \n",
       "2         Công ty trách nhiệm hữu hạn một thành viên   \n",
       "3                               Doanh nghiệp tư nhân   \n",
       "4         Công ty trách nhiệm hữu hạn một thành viên   \n",
       "\n",
       "                                              DiaChi  \\\n",
       "0  32-Đ6 Sài Gòn Pearl Villas-92 Nguyễn Hữu Cảnh,...   \n",
       "1  Số 1122/1 Quang Trung, Phường 8, Quận Gò Vấp, ...   \n",
       "2  Số 49 Trường Sơn, Phường 2, Quận Tân Bình, Thà...   \n",
       "3  169 Đường liên khu 4-5, Phường Bình Hưng Hòa B...   \n",
       "4  186 Lưu Hữu Phước, Phường 15, Quận 8, Thành ph...   \n",
       "\n",
       "                                           NganhNghe  \n",
       "0  1621: Sản xuất gỗ dán, gỗ lạng, ván ép và ván ...  \n",
       "1  5510: Dịch vụ lưu trú ngắn ngày--Chi tiết: Kin...  \n",
       "2  8559: Giáo dục khác chưa được phân vào đâu-Chi...  \n",
       "3  3211: Sản xuất đồ kim hoàn và chi tiết liên qu...  \n",
       "4  2592: Gia công cơ khí; xử lý và tráng phủ kim ...  "
      ]
     },
     "execution_count": 11,
     "metadata": {},
     "output_type": "execute_result"
    }
   ],
   "source": [
    "active_corp = pd.read_csv('../dataset/DN-HCM/DanhSachDangHoatDong_1.csv', dtype='unicode')\n",
    "active_corp.head()"
   ]
  },
  {
   "cell_type": "code",
   "execution_count": 12,
   "id": "284ca86c-18cb-4378-b047-8f32cf008b76",
   "metadata": {},
   "outputs": [
    {
     "data": {
      "text/plain": [
       "LoaiDN\n",
       "Công ty trách nhiệm hữu hạn một thành viên            58.416481\n",
       "Công ty trách nhiệm hữu hạn hai thành viên trở lên    27.437738\n",
       "Công ty cổ phần                                       13.212096\n",
       "Doanh nghiệp tư nhân                                   0.923333\n",
       "Công ty hợp danh                                       0.010352\n",
       "Name: count, dtype: float64"
      ]
     },
     "execution_count": 12,
     "metadata": {},
     "output_type": "execute_result"
    }
   ],
   "source": [
    "active_corp['LoaiDN'].value_counts()*100/active_corp.shape[0]"
   ]
  },
  {
   "cell_type": "code",
   "execution_count": 13,
   "id": "a79c3772-4257-44f9-8c80-9152b8d92f4d",
   "metadata": {
    "scrolled": true
   },
   "outputs": [
    {
     "data": {
      "text/plain": [
       "LoaiDN\n",
       "Công ty trách nhiệm hữu hạn một thành viên            118499\n",
       "Công ty trách nhiệm hữu hạn hai thành viên trở lên     55658\n",
       "Công ty cổ phần                                        26801\n",
       "Doanh nghiệp tư nhân                                    1873\n",
       "Công ty hợp danh                                          21\n",
       "Name: count, dtype: int64"
      ]
     },
     "execution_count": 13,
     "metadata": {},
     "output_type": "execute_result"
    }
   ],
   "source": [
    "active_corp['LoaiDN'].value_counts()"
   ]
  },
  {
   "cell_type": "code",
   "execution_count": 14,
   "id": "cbe94457-3f62-4559-9876-91d03a855352",
   "metadata": {},
   "outputs": [
    {
     "data": {
      "text/html": [
       "<div>\n",
       "<style scoped>\n",
       "    .dataframe tbody tr th:only-of-type {\n",
       "        vertical-align: middle;\n",
       "    }\n",
       "\n",
       "    .dataframe tbody tr th {\n",
       "        vertical-align: top;\n",
       "    }\n",
       "\n",
       "    .dataframe thead th {\n",
       "        text-align: right;\n",
       "    }\n",
       "</style>\n",
       "<table border=\"1\" class=\"dataframe\">\n",
       "  <thead>\n",
       "    <tr style=\"text-align: right;\">\n",
       "      <th></th>\n",
       "      <th>MaSoDN</th>\n",
       "      <th>TenDN</th>\n",
       "      <th>NgayCap</th>\n",
       "      <th>LoaiDN</th>\n",
       "      <th>DiaChi</th>\n",
       "      <th>NganhNghe</th>\n",
       "    </tr>\n",
       "  </thead>\n",
       "  <tbody>\n",
       "    <tr>\n",
       "      <th>13</th>\n",
       "      <td>0313603461</td>\n",
       "      <td>CÔNG TY CỔ PHẦN TẬP ĐOÀN HUTIMEX</td>\n",
       "      <td>06/01/2016</td>\n",
       "      <td>Công ty cổ phần</td>\n",
       "      <td>168/47A Đường Chiến Lược, Khu phố 8, Phường Bì...</td>\n",
       "      <td>0112: Trồng ngô và cây lương thực có hạt khác-...</td>\n",
       "    </tr>\n",
       "    <tr>\n",
       "      <th>26</th>\n",
       "      <td>0313598388</td>\n",
       "      <td>CÔNG TY CỔ PHẦN BẤT ĐỘNG SẢN KEYLAND</td>\n",
       "      <td>04/01/2016</td>\n",
       "      <td>Công ty cổ phần</td>\n",
       "      <td>287 Đường Ấp 2, Phường An Phú, Thành phố Thủ Đ...</td>\n",
       "      <td>6820: Tư vấn, môi giới, đấu giá bất động sản, ...</td>\n",
       "    </tr>\n",
       "    <tr>\n",
       "      <th>28</th>\n",
       "      <td>0313598532</td>\n",
       "      <td>CÔNG TY CỔ PHẦN NĂNG LƯỢNG MÔI TRƯỜNG HOÀNG HẢ...</td>\n",
       "      <td>04/01/2016</td>\n",
       "      <td>Công ty cổ phần</td>\n",
       "      <td>144 A Đường Trần Văn Chẩm , Xã Phước Vĩnh An, ...</td>\n",
       "      <td>0113: Trồng cây lấy củ có chất bột-(không hoạt...</td>\n",
       "    </tr>\n",
       "    <tr>\n",
       "      <th>29</th>\n",
       "      <td>0313598733</td>\n",
       "      <td>CÔNG TY CỔ PHẦN PHÁT TRIỂN BẤT ĐỘNG SẢN THÀNH ...</td>\n",
       "      <td>04/01/2016</td>\n",
       "      <td>Công ty cổ phần</td>\n",
       "      <td>174 Trần Phú, Phường 09, Quận 5, Thành phố Hồ ...</td>\n",
       "      <td>4652: Bán buôn thiết bị và linh kiện điện tử, ...</td>\n",
       "    </tr>\n",
       "    <tr>\n",
       "      <th>61</th>\n",
       "      <td>0313599310</td>\n",
       "      <td>CÔNG TY CỔ PHẦN GIẢI PHÁP CNC</td>\n",
       "      <td>04/01/2016</td>\n",
       "      <td>Công ty cổ phần</td>\n",
       "      <td>Phòng 6.11 Lầu 6, Cao Ốc Thịnh Vượng, số 531 N...</td>\n",
       "      <td>2593: Sản xuất dao kéo, dụng cụ cầm tay và đồ ...</td>\n",
       "    </tr>\n",
       "    <tr>\n",
       "      <th>...</th>\n",
       "      <td>...</td>\n",
       "      <td>...</td>\n",
       "      <td>...</td>\n",
       "      <td>...</td>\n",
       "      <td>...</td>\n",
       "      <td>...</td>\n",
       "    </tr>\n",
       "    <tr>\n",
       "      <th>202803</th>\n",
       "      <td>0317004388</td>\n",
       "      <td>CÔNG TY CỔ PHẦN SAIGON ROYAL HOME</td>\n",
       "      <td>29/10/2021</td>\n",
       "      <td>Công ty cổ phần</td>\n",
       "      <td>15/12 Hồng Hà, Phường 2, Quận Tân Bình, Thành ...</td>\n",
       "      <td>2511: Sản xuất các cấu kiện kim loại-;2512: Sả...</td>\n",
       "    </tr>\n",
       "    <tr>\n",
       "      <th>202805</th>\n",
       "      <td>0317004363</td>\n",
       "      <td>CÔNG TY CỔ PHẦN BÉ AN TOÀN</td>\n",
       "      <td>29/10/2021</td>\n",
       "      <td>Công ty cổ phần</td>\n",
       "      <td>27A Hoàng Việt, Phường 4, Quận Tân Bình, Thành...</td>\n",
       "      <td>4649: Bán buôn đồ dùng khác cho gia đình-(trừ ...</td>\n",
       "    </tr>\n",
       "    <tr>\n",
       "      <th>202812</th>\n",
       "      <td>0317001299</td>\n",
       "      <td>CÔNG TY CỔ PHẦN ĐỊA ỐC GIA CÁT LỢI</td>\n",
       "      <td>29/10/2021</td>\n",
       "      <td>Công ty cổ phần</td>\n",
       "      <td>163 Đường Nguyễn Thị Nhung, KDC Vạn Phúc 1, Qu...</td>\n",
       "      <td>6810: Kinh doanh bất động sản, quyền sử dụng đ...</td>\n",
       "    </tr>\n",
       "    <tr>\n",
       "      <th>202846</th>\n",
       "      <td>0317004853</td>\n",
       "      <td>CÔNG TY CỔ PHẦN XÂY DỰNG - XUẤT NHẬP KHẨU ĐÔNG...</td>\n",
       "      <td>29/10/2021</td>\n",
       "      <td>Công ty cổ phần</td>\n",
       "      <td>Số 63 KP8 Đường 36, Phường Linh Đông, Thành ph...</td>\n",
       "      <td>6810: Kinh doanh bất động sản, quyền sử dụng đ...</td>\n",
       "    </tr>\n",
       "    <tr>\n",
       "      <th>202849</th>\n",
       "      <td>0402078119</td>\n",
       "      <td>CÔNG TY CỔ PHẦN FRIENDLY DEV CO</td>\n",
       "      <td>11/01/2021</td>\n",
       "      <td>Công ty cổ phần</td>\n",
       "      <td>Tòa nhà Serepok, 56 Nguyễn Đình Chiểu, Phường ...</td>\n",
       "      <td>7310: Quảng cáo-(không dập, cắt, gò, hàn, đồng...</td>\n",
       "    </tr>\n",
       "  </tbody>\n",
       "</table>\n",
       "<p>26801 rows × 6 columns</p>\n",
       "</div>"
      ],
      "text/plain": [
       "            MaSoDN                                              TenDN  \\\n",
       "13      0313603461                   CÔNG TY CỔ PHẦN TẬP ĐOÀN HUTIMEX   \n",
       "26      0313598388               CÔNG TY CỔ PHẦN BẤT ĐỘNG SẢN KEYLAND   \n",
       "28      0313598532  CÔNG TY CỔ PHẦN NĂNG LƯỢNG MÔI TRƯỜNG HOÀNG HẢ...   \n",
       "29      0313598733  CÔNG TY CỔ PHẦN PHÁT TRIỂN BẤT ĐỘNG SẢN THÀNH ...   \n",
       "61      0313599310                      CÔNG TY CỔ PHẦN GIẢI PHÁP CNC   \n",
       "...            ...                                                ...   \n",
       "202803  0317004388                  CÔNG TY CỔ PHẦN SAIGON ROYAL HOME   \n",
       "202805  0317004363                         CÔNG TY CỔ PHẦN BÉ AN TOÀN   \n",
       "202812  0317001299                 CÔNG TY CỔ PHẦN ĐỊA ỐC GIA CÁT LỢI   \n",
       "202846  0317004853  CÔNG TY CỔ PHẦN XÂY DỰNG - XUẤT NHẬP KHẨU ĐÔNG...   \n",
       "202849  0402078119                    CÔNG TY CỔ PHẦN FRIENDLY DEV CO   \n",
       "\n",
       "           NgayCap           LoaiDN  \\\n",
       "13      06/01/2016  Công ty cổ phần   \n",
       "26      04/01/2016  Công ty cổ phần   \n",
       "28      04/01/2016  Công ty cổ phần   \n",
       "29      04/01/2016  Công ty cổ phần   \n",
       "61      04/01/2016  Công ty cổ phần   \n",
       "...            ...              ...   \n",
       "202803  29/10/2021  Công ty cổ phần   \n",
       "202805  29/10/2021  Công ty cổ phần   \n",
       "202812  29/10/2021  Công ty cổ phần   \n",
       "202846  29/10/2021  Công ty cổ phần   \n",
       "202849  11/01/2021  Công ty cổ phần   \n",
       "\n",
       "                                                   DiaChi  \\\n",
       "13      168/47A Đường Chiến Lược, Khu phố 8, Phường Bì...   \n",
       "26      287 Đường Ấp 2, Phường An Phú, Thành phố Thủ Đ...   \n",
       "28      144 A Đường Trần Văn Chẩm , Xã Phước Vĩnh An, ...   \n",
       "29      174 Trần Phú, Phường 09, Quận 5, Thành phố Hồ ...   \n",
       "61      Phòng 6.11 Lầu 6, Cao Ốc Thịnh Vượng, số 531 N...   \n",
       "...                                                   ...   \n",
       "202803  15/12 Hồng Hà, Phường 2, Quận Tân Bình, Thành ...   \n",
       "202805  27A Hoàng Việt, Phường 4, Quận Tân Bình, Thành...   \n",
       "202812  163 Đường Nguyễn Thị Nhung, KDC Vạn Phúc 1, Qu...   \n",
       "202846  Số 63 KP8 Đường 36, Phường Linh Đông, Thành ph...   \n",
       "202849  Tòa nhà Serepok, 56 Nguyễn Đình Chiểu, Phường ...   \n",
       "\n",
       "                                                NganhNghe  \n",
       "13      0112: Trồng ngô và cây lương thực có hạt khác-...  \n",
       "26      6820: Tư vấn, môi giới, đấu giá bất động sản, ...  \n",
       "28      0113: Trồng cây lấy củ có chất bột-(không hoạt...  \n",
       "29      4652: Bán buôn thiết bị và linh kiện điện tử, ...  \n",
       "61      2593: Sản xuất dao kéo, dụng cụ cầm tay và đồ ...  \n",
       "...                                                   ...  \n",
       "202803  2511: Sản xuất các cấu kiện kim loại-;2512: Sả...  \n",
       "202805  4649: Bán buôn đồ dùng khác cho gia đình-(trừ ...  \n",
       "202812  6810: Kinh doanh bất động sản, quyền sử dụng đ...  \n",
       "202846  6810: Kinh doanh bất động sản, quyền sử dụng đ...  \n",
       "202849  7310: Quảng cáo-(không dập, cắt, gò, hàn, đồng...  \n",
       "\n",
       "[26801 rows x 6 columns]"
      ]
     },
     "execution_count": 14,
     "metadata": {},
     "output_type": "execute_result"
    }
   ],
   "source": [
    "active_corp[active_corp.LoaiDN == 'Công ty cổ phần']"
   ]
  },
  {
   "cell_type": "code",
   "execution_count": 15,
   "id": "e2ff595a-6c22-4533-984a-7c3acefad7a5",
   "metadata": {},
   "outputs": [
    {
     "data": {
      "text/plain": [
       "'01/01/2016'"
      ]
     },
     "execution_count": 15,
     "metadata": {},
     "output_type": "execute_result"
    }
   ],
   "source": [
    "active_corp.NgayCap.min()"
   ]
  },
  {
   "cell_type": "code",
   "execution_count": 16,
   "id": "661ae540-b8de-408c-877b-0d8a82392661",
   "metadata": {},
   "outputs": [
    {
     "data": {
      "text/plain": [
       "'31/12/2020'"
      ]
     },
     "execution_count": 16,
     "metadata": {},
     "output_type": "execute_result"
    }
   ],
   "source": [
    "active_corp.NgayCap.max()"
   ]
  },
  {
   "cell_type": "code",
   "execution_count": 17,
   "id": "b321a61c-b1f9-4143-b570-159075f45136",
   "metadata": {},
   "outputs": [
    {
     "data": {
      "text/html": [
       "<div>\n",
       "<style scoped>\n",
       "    .dataframe tbody tr th:only-of-type {\n",
       "        vertical-align: middle;\n",
       "    }\n",
       "\n",
       "    .dataframe tbody tr th {\n",
       "        vertical-align: top;\n",
       "    }\n",
       "\n",
       "    .dataframe thead th {\n",
       "        text-align: right;\n",
       "    }\n",
       "</style>\n",
       "<table border=\"1\" class=\"dataframe\">\n",
       "  <thead>\n",
       "    <tr style=\"text-align: right;\">\n",
       "      <th></th>\n",
       "      <th>MaSoDN</th>\n",
       "      <th>TenDN</th>\n",
       "      <th>NgayCap</th>\n",
       "      <th>LoaiDN</th>\n",
       "      <th>DiaChi</th>\n",
       "      <th>NganhNghe</th>\n",
       "    </tr>\n",
       "  </thead>\n",
       "  <tbody>\n",
       "  </tbody>\n",
       "</table>\n",
       "</div>"
      ],
      "text/plain": [
       "Empty DataFrame\n",
       "Columns: [MaSoDN, TenDN, NgayCap, LoaiDN, DiaChi, NganhNghe]\n",
       "Index: []"
      ]
     },
     "execution_count": 17,
     "metadata": {},
     "output_type": "execute_result"
    }
   ],
   "source": [
    "active_corp[active_corp.MaSoDN == '0303490096']"
   ]
  },
  {
   "cell_type": "markdown",
   "id": "032a6862-b959-44cd-864a-f55becdfa64e",
   "metadata": {},
   "source": [
    "# Danh sách bổ sung"
   ]
  },
  {
   "cell_type": "code",
   "execution_count": 18,
   "id": "f460c0ad-1f2c-44a4-bd3b-480d9415c773",
   "metadata": {},
   "outputs": [],
   "source": [
    "# dsbs = pd.read_csv('../dataset/DN-HCM/DanhSachBoSung.csv')\n",
    "# dsbs.head()"
   ]
  },
  {
   "cell_type": "markdown",
   "id": "2238832e-e80a-4b09-8d91-aea50d10d616",
   "metadata": {},
   "source": [
    "# Lấy data thuế"
   ]
  },
  {
   "cell_type": "code",
   "execution_count": 19,
   "id": "acbdddf5-7399-4571-a2dc-bb8f38cc2d88",
   "metadata": {},
   "outputs": [],
   "source": [
    "from selenium import webdriver\n",
    "from selenium.webdriver.common.by import By\n",
    "from selenium.webdriver.common.keys import Keys\n",
    "import time"
   ]
  },
  {
   "cell_type": "code",
   "execution_count": null,
   "id": "8251fc0a-b247-4bf5-8f18-36944dc8e0af",
   "metadata": {},
   "outputs": [],
   "source": [
    "url = 'https://thuvienphapluat.vn/ma-so-thue/tra-cuu-ma-so-thue-doanh-nghiep?timtheo=ma-so-thue&tukhoa=&ngaycaptu=&ngaycapden=&ngaydongmsttu=&ngaydongmstden=&vondieuletu=&vondieuleden=&loaihinh=0&nganhnghe=0&tinhthanhpho=79&quanhuyen=0&phuongxa=0'"
   ]
  },
  {
   "cell_type": "code",
   "execution_count": 12,
   "id": "5eb7a8c6-5a03-4a6e-bd32-06b27851b8c2",
   "metadata": {},
   "outputs": [],
   "source": [
    "# Khởi tạo trình duyệt\n",
    "driver = webdriver.Chrome()  # hoặc Edge(), Firefox(), tùy vào trình duyệt bạn có\n",
    "\n",
    "# Mở trang tra cứu\n",
    "driver.get(url)  # <-- thay bằng URL thật\n",
    "\n",
    "# Đợi trang load xong\n",
    "time.sleep(2)"
   ]
  },
  {
   "cell_type": "code",
   "execution_count": 13,
   "id": "01378b6d-26e5-4995-a2e9-1d5609f99a1f",
   "metadata": {},
   "outputs": [],
   "source": [
    "# Điền mã số thuế\n",
    "mst_input = driver.find_element(By.NAME, 'tukhoa')  # hoặc By.NAME / By.XPATH tùy trang\n",
    "mst_input.send_keys('0316844070')"
   ]
  },
  {
   "cell_type": "code",
   "execution_count": 14,
   "id": "5b4e1a2e-4dfc-42dc-a6ac-593359cabf2d",
   "metadata": {},
   "outputs": [],
   "source": [
    "# Click nút tra cứu\n",
    "search_button = driver.find_element(By.ID, 'btnSeachMST')  # hoặc tìm theo class/xpath\n",
    "search_button.click()"
   ]
  },
  {
   "cell_type": "code",
   "execution_count": 15,
   "id": "a21c3f7e-9114-487b-8be8-2bedaaea6e79",
   "metadata": {},
   "outputs": [],
   "source": [
    "\n",
    "# Chờ kết quả hiển thị\n",
    "time.sleep(3)"
   ]
  },
  {
   "cell_type": "code",
   "execution_count": 16,
   "id": "636946cf-830e-41af-829c-453008516b30",
   "metadata": {},
   "outputs": [
    {
     "name": "stdout",
     "output_type": "stream",
     "text": [
      "Kết quả tìm kiếm\n",
      "Tìm thấy 1 kết quả\n",
      "STT Mã số thuế Tên doanh nghiệp Ngày cấp\n",
      "1 0316844070\n",
      "CÔNG TY CỔ PHẦN DỊCH VỤ NĂNG LƯỢNG VNG\n",
      "05/2021\n",
      "1\n"
     ]
    }
   ],
   "source": [
    "# Lấy kết quả trả về\n",
    "result = driver.find_element(By.ID, 'dvResultSearch')  # chỉnh lại class đúng\n",
    "print(result.text)\n",
    "\n",
    "# # Đóng trình duyệt\n",
    "# driver.quit()\n"
   ]
  },
  {
   "cell_type": "code",
   "execution_count": null,
   "id": "ac109a82-7aad-4671-8ad0-0eb1ba812d7a",
   "metadata": {},
   "outputs": [],
   "source": []
  }
 ],
 "metadata": {
  "kernelspec": {
   "display_name": "Python 3 (ipykernel)",
   "language": "python",
   "name": "python3"
  },
  "language_info": {
   "codemirror_mode": {
    "name": "ipython",
    "version": 3
   },
   "file_extension": ".py",
   "mimetype": "text/x-python",
   "name": "python",
   "nbconvert_exporter": "python",
   "pygments_lexer": "ipython3",
   "version": "3.9.21"
  }
 },
 "nbformat": 4,
 "nbformat_minor": 5
}
