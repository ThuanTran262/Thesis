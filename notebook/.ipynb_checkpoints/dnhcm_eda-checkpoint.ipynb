{
 "cells": [
  {
   "cell_type": "code",
   "execution_count": 1,
   "id": "cd1a29b3-43c4-4374-92b8-5aea8fe09345",
   "metadata": {},
   "outputs": [],
   "source": [
    "import pandas as pd"
   ]
  },
  {
   "cell_type": "markdown",
   "id": "2b078ec0-403a-4ccf-8960-09ef6acbde3e",
   "metadata": {},
   "source": [
    "# Doanh nghiệp giải thể"
   ]
  },
  {
   "cell_type": "code",
   "execution_count": 3,
   "id": "b013eb44-33ac-4e54-9a48-15bca439b13e",
   "metadata": {},
   "outputs": [
    {
     "data": {
      "text/html": [
       "<div>\n",
       "<style scoped>\n",
       "    .dataframe tbody tr th:only-of-type {\n",
       "        vertical-align: middle;\n",
       "    }\n",
       "\n",
       "    .dataframe tbody tr th {\n",
       "        vertical-align: top;\n",
       "    }\n",
       "\n",
       "    .dataframe thead th {\n",
       "        text-align: right;\n",
       "    }\n",
       "</style>\n",
       "<table border=\"1\" class=\"dataframe\">\n",
       "  <thead>\n",
       "    <tr style=\"text-align: right;\">\n",
       "      <th></th>\n",
       "      <th>Số thứ tự</th>\n",
       "      <th>Mã số thuế</th>\n",
       "      <th>Tên doanh nghiệp</th>\n",
       "      <th>Loại hình doanh nghiệp</th>\n",
       "      <th>Địa chỉ trụ sở</th>\n",
       "      <th>Ngành cấp I</th>\n",
       "      <th>Tình trạng</th>\n",
       "      <th>Lý do</th>\n",
       "      <th>Ngày giải thể</th>\n",
       "    </tr>\n",
       "  </thead>\n",
       "  <tbody>\n",
       "    <tr>\n",
       "      <th>0</th>\n",
       "      <td>1</td>\n",
       "      <td>1801074887</td>\n",
       "      <td>CÔNG TY CỔ PHẦN TƯ VẤN ĐẦU TƯ VIỆT THẮNG</td>\n",
       "      <td>Công ty cổ phần</td>\n",
       "      <td>Phòng 11-1, tầng 11, tòa nhà Gilimex, số 24C P...</td>\n",
       "      <td>HOẠT ĐỘNG TÀI CHÍNH, NGÂN HÀNG VÀ BẢO HIỂM</td>\n",
       "      <td>Đã giải thể, phá sản, chấm dứt tồn tại</td>\n",
       "      <td>Công ty hoạt động không hiệu quả</td>\n",
       "      <td>26/01/2016</td>\n",
       "    </tr>\n",
       "    <tr>\n",
       "      <th>1</th>\n",
       "      <td>2</td>\n",
       "      <td>0306021825</td>\n",
       "      <td>CÔNG TY TNHH XUẤT NHẬP KHẨU HƯNG LONG</td>\n",
       "      <td>Công ty trách nhiệm hữu hạn hai thành viên trở...</td>\n",
       "      <td>2D Nguyễn Hiến Lê, Phường 13, Quận Tân Bình, T...</td>\n",
       "      <td>HOẠT ĐỘNG CHUYÊN MÔN, KHOA HỌC VÀ CÔNG NGHỆ</td>\n",
       "      <td>Đã giải thể, phá sản, chấm dứt tồn tại</td>\n",
       "      <td>kinh doanh không hiệu quả</td>\n",
       "      <td>10/06/2017</td>\n",
       "    </tr>\n",
       "    <tr>\n",
       "      <th>2</th>\n",
       "      <td>3</td>\n",
       "      <td>0309431731</td>\n",
       "      <td>CÔNG TY TNHH ĐẦU TƯ RỪNG XANH</td>\n",
       "      <td>Công ty trách nhiệm hữu hạn hai thành viên trở...</td>\n",
       "      <td>232 Trần Hưng Đạo, Phường Nguyễn Cư Trinh, Quậ...</td>\n",
       "      <td>NaN</td>\n",
       "      <td>Đã giải thể, phá sản, chấm dứt tồn tại</td>\n",
       "      <td>Doanh nghiệp kinh doanh không hiệu quả.</td>\n",
       "      <td>12/01/2018</td>\n",
       "    </tr>\n",
       "    <tr>\n",
       "      <th>3</th>\n",
       "      <td>4</td>\n",
       "      <td>0309781775</td>\n",
       "      <td>CÔNG TY TNHH THƯƠNG MẠI DỊCH VỤ ĐẦU TƯ XÂY DỰN...</td>\n",
       "      <td>Công ty trách nhiệm hữu hạn hai thành viên trở...</td>\n",
       "      <td>96/4 Đường D1, Phường 25, Quận Bình Thạnh, Thà...</td>\n",
       "      <td>XÂY DỰNG</td>\n",
       "      <td>Đã giải thể, phá sản, chấm dứt tồn tại</td>\n",
       "      <td>Hoạt động không hiệu quả</td>\n",
       "      <td>05/02/2016</td>\n",
       "    </tr>\n",
       "    <tr>\n",
       "      <th>4</th>\n",
       "      <td>5</td>\n",
       "      <td>0310227642</td>\n",
       "      <td>CÔNG TY TNHH THƯƠNG MẠI DỊCH VỤ H.A.T</td>\n",
       "      <td>Công ty trách nhiệm hữu hạn hai thành viên trở...</td>\n",
       "      <td>số 292/33/44D Bình Lợi, Phường 13, Quận Bình T...</td>\n",
       "      <td>NaN</td>\n",
       "      <td>Đã giải thể, phá sản, chấm dứt tồn tại</td>\n",
       "      <td>không thực hiên được kế hoạch kinh doanh</td>\n",
       "      <td>06/10/2017</td>\n",
       "    </tr>\n",
       "  </tbody>\n",
       "</table>\n",
       "</div>"
      ],
      "text/plain": [
       "  Số thứ tự  Mã số thuế                                   Tên doanh nghiệp  \\\n",
       "0         1  1801074887           CÔNG TY CỔ PHẦN TƯ VẤN ĐẦU TƯ VIỆT THẮNG   \n",
       "1         2  0306021825              CÔNG TY TNHH XUẤT NHẬP KHẨU HƯNG LONG   \n",
       "2         3  0309431731                      CÔNG TY TNHH ĐẦU TƯ RỪNG XANH   \n",
       "3         4  0309781775  CÔNG TY TNHH THƯƠNG MẠI DỊCH VỤ ĐẦU TƯ XÂY DỰN...   \n",
       "4         5  0310227642              CÔNG TY TNHH THƯƠNG MẠI DỊCH VỤ H.A.T   \n",
       "\n",
       "                              Loại hình doanh nghiệp  \\\n",
       "0                                    Công ty cổ phần   \n",
       "1  Công ty trách nhiệm hữu hạn hai thành viên trở...   \n",
       "2  Công ty trách nhiệm hữu hạn hai thành viên trở...   \n",
       "3  Công ty trách nhiệm hữu hạn hai thành viên trở...   \n",
       "4  Công ty trách nhiệm hữu hạn hai thành viên trở...   \n",
       "\n",
       "                                      Địa chỉ trụ sở  \\\n",
       "0  Phòng 11-1, tầng 11, tòa nhà Gilimex, số 24C P...   \n",
       "1  2D Nguyễn Hiến Lê, Phường 13, Quận Tân Bình, T...   \n",
       "2  232 Trần Hưng Đạo, Phường Nguyễn Cư Trinh, Quậ...   \n",
       "3  96/4 Đường D1, Phường 25, Quận Bình Thạnh, Thà...   \n",
       "4  số 292/33/44D Bình Lợi, Phường 13, Quận Bình T...   \n",
       "\n",
       "                                   Ngành cấp I  \\\n",
       "0   HOẠT ĐỘNG TÀI CHÍNH, NGÂN HÀNG VÀ BẢO HIỂM   \n",
       "1  HOẠT ĐỘNG CHUYÊN MÔN, KHOA HỌC VÀ CÔNG NGHỆ   \n",
       "2                                          NaN   \n",
       "3                                     XÂY DỰNG   \n",
       "4                                          NaN   \n",
       "\n",
       "                               Tình trạng  \\\n",
       "0  Đã giải thể, phá sản, chấm dứt tồn tại   \n",
       "1  Đã giải thể, phá sản, chấm dứt tồn tại   \n",
       "2  Đã giải thể, phá sản, chấm dứt tồn tại   \n",
       "3  Đã giải thể, phá sản, chấm dứt tồn tại   \n",
       "4  Đã giải thể, phá sản, chấm dứt tồn tại   \n",
       "\n",
       "                                      Lý do Ngày giải thể  \n",
       "0          Công ty hoạt động không hiệu quả    26/01/2016  \n",
       "1                 kinh doanh không hiệu quả    10/06/2017  \n",
       "2   Doanh nghiệp kinh doanh không hiệu quả.    12/01/2018  \n",
       "3                  Hoạt động không hiệu quả    05/02/2016  \n",
       "4  không thực hiên được kế hoạch kinh doanh    06/10/2017  "
      ]
     },
     "execution_count": 3,
     "metadata": {},
     "output_type": "execute_result"
    }
   ],
   "source": [
    "bankruptcy_corp = pd.read_csv('../dataset/DN-HCM/DanhSachDaGiaiThe (2).csv', dtype='unicode')\n",
    "bankruptcy_corp.head()"
   ]
  },
  {
   "cell_type": "code",
   "execution_count": 14,
   "id": "7f332695-ceb2-48e2-8cba-045806f23ca6",
   "metadata": {},
   "outputs": [
    {
     "data": {
      "text/plain": [
       "(25709, 9)"
      ]
     },
     "execution_count": 14,
     "metadata": {},
     "output_type": "execute_result"
    }
   ],
   "source": [
    "bankruptcy_corp.shape"
   ]
  },
  {
   "cell_type": "code",
   "execution_count": 6,
   "id": "7af67135-a24a-4c2c-bdf4-608219a36a4e",
   "metadata": {},
   "outputs": [
    {
     "data": {
      "text/plain": [
       "Số thứ tự                 0.000000\n",
       "Mã số thuế                0.003890\n",
       "Tên doanh nghiệp          0.000000\n",
       "Loại hình doanh nghiệp    0.000000\n",
       "Địa chỉ trụ sở            0.000000\n",
       "Ngành cấp I               8.281147\n",
       "Tình trạng                0.000000\n",
       "Lý do                     0.116691\n",
       "Ngày giải thể             0.000000\n",
       "dtype: float64"
      ]
     },
     "execution_count": 6,
     "metadata": {},
     "output_type": "execute_result"
    }
   ],
   "source": [
    "bankruptcy_corp.isnull().sum()*100/bankruptcy_corp.shape[0]"
   ]
  },
  {
   "cell_type": "code",
   "execution_count": 9,
   "id": "11904246-be48-454d-8393-14ff84fee8cb",
   "metadata": {},
   "outputs": [
    {
     "data": {
      "text/plain": [
       "Loại hình doanh nghiệp\n",
       "Công ty trách nhiệm hữu hạn một thành viên            12370\n",
       "Công ty trách nhiệm hữu hạn hai thành viên trở lên     8861\n",
       "Công ty cổ phần                                        3487\n",
       "Doanh nghiệp tư nhân                                    984\n",
       "Công ty hợp danh                                          7\n",
       "Name: count, dtype: int64"
      ]
     },
     "execution_count": 9,
     "metadata": {},
     "output_type": "execute_result"
    }
   ],
   "source": [
    "bankruptcy_corp['Loại hình doanh nghiệp'].value_counts()"
   ]
  },
  {
   "cell_type": "code",
   "execution_count": 8,
   "id": "b2958df0-74b8-4843-95ed-9ed91b4546da",
   "metadata": {},
   "outputs": [
    {
     "data": {
      "text/plain": [
       "Loại hình doanh nghiệp\n",
       "Công ty trách nhiệm hữu hạn một thành viên            48.115446\n",
       "Công ty trách nhiệm hữu hạn hai thành viên trở lên    34.466529\n",
       "Công ty cổ phần                                       13.563344\n",
       "Doanh nghiệp tư nhân                                   3.827453\n",
       "Công ty hợp danh                                       0.027228\n",
       "Name: count, dtype: float64"
      ]
     },
     "execution_count": 8,
     "metadata": {},
     "output_type": "execute_result"
    }
   ],
   "source": [
    "bankruptcy_corp['Loại hình doanh nghiệp'].value_counts()*100/bankruptcy_corp.shape[0]"
   ]
  },
  {
   "cell_type": "code",
   "execution_count": 15,
   "id": "aef9f609-d0dd-49c2-a168-d5fd03590476",
   "metadata": {},
   "outputs": [
    {
     "data": {
      "text/plain": [
       "'01/02/2016'"
      ]
     },
     "execution_count": 15,
     "metadata": {},
     "output_type": "execute_result"
    }
   ],
   "source": [
    "bankruptcy_corp['Ngày giải thể'].min()"
   ]
  },
  {
   "cell_type": "code",
   "execution_count": 16,
   "id": "0373744b-b252-4951-8bc0-e0cea16b8a11",
   "metadata": {},
   "outputs": [
    {
     "data": {
      "text/plain": [
       "'31/12/2020'"
      ]
     },
     "execution_count": 16,
     "metadata": {},
     "output_type": "execute_result"
    }
   ],
   "source": [
    "bankruptcy_corp['Ngày giải thể'].max()"
   ]
  },
  {
   "cell_type": "markdown",
   "id": "df21f598-c105-4404-9bb3-26e47d44c274",
   "metadata": {},
   "source": [
    "# Doanh nghiệp hoạt động"
   ]
  },
  {
   "cell_type": "code",
   "execution_count": 10,
   "id": "d974fb99-96a1-4d10-b83f-e975ff217468",
   "metadata": {},
   "outputs": [
    {
     "data": {
      "text/html": [
       "<div>\n",
       "<style scoped>\n",
       "    .dataframe tbody tr th:only-of-type {\n",
       "        vertical-align: middle;\n",
       "    }\n",
       "\n",
       "    .dataframe tbody tr th {\n",
       "        vertical-align: top;\n",
       "    }\n",
       "\n",
       "    .dataframe thead th {\n",
       "        text-align: right;\n",
       "    }\n",
       "</style>\n",
       "<table border=\"1\" class=\"dataframe\">\n",
       "  <thead>\n",
       "    <tr style=\"text-align: right;\">\n",
       "      <th></th>\n",
       "      <th>MaSoDN</th>\n",
       "      <th>TenDN</th>\n",
       "      <th>NgayCap</th>\n",
       "      <th>LoaiDN</th>\n",
       "      <th>DiaChi</th>\n",
       "      <th>NganhNghe</th>\n",
       "    </tr>\n",
       "  </thead>\n",
       "  <tbody>\n",
       "    <tr>\n",
       "      <th>0</th>\n",
       "      <td>0313597320</td>\n",
       "      <td>CÔNG TY TNHH LAVITA</td>\n",
       "      <td>04/01/2016</td>\n",
       "      <td>Công ty trách nhiệm hữu hạn hai thành viên trở...</td>\n",
       "      <td>32-Đ6 Sài Gòn Pearl Villas-92 Nguyễn Hữu Cảnh,...</td>\n",
       "      <td>1621: Sản xuất gỗ dán, gỗ lạng, ván ép và ván ...</td>\n",
       "    </tr>\n",
       "    <tr>\n",
       "      <th>1</th>\n",
       "      <td>0313597507</td>\n",
       "      <td>CÔNG TY TNHH ĐẦU TƯ PHÁT TRIỂN KHÁCH SẠN SÀI GÒN</td>\n",
       "      <td>04/01/2016</td>\n",
       "      <td>Công ty trách nhiệm hữu hạn một thành viên</td>\n",
       "      <td>Số 1122/1 Quang Trung, Phường 8, Quận Gò Vấp, ...</td>\n",
       "      <td>5510: Dịch vụ lưu trú ngắn ngày--Chi tiết: Kin...</td>\n",
       "    </tr>\n",
       "    <tr>\n",
       "      <th>2</th>\n",
       "      <td>0313587386</td>\n",
       "      <td>CÔNG TY TRÁCH NHIỆM HỮU HẠN MỘT THÀNH VIÊN DỊC...</td>\n",
       "      <td>01/01/2016</td>\n",
       "      <td>Công ty trách nhiệm hữu hạn một thành viên</td>\n",
       "      <td>Số 49 Trường Sơn, Phường 2, Quận Tân Bình, Thà...</td>\n",
       "      <td>8559: Giáo dục khác chưa được phân vào đâu-Chi...</td>\n",
       "    </tr>\n",
       "    <tr>\n",
       "      <th>3</th>\n",
       "      <td>0313599208</td>\n",
       "      <td>DOANH NGHIỆP TƯ NHÂN THƯƠNG MẠI VÀNG BẠC ĐÁ QU...</td>\n",
       "      <td>04/01/2016</td>\n",
       "      <td>Doanh nghiệp tư nhân</td>\n",
       "      <td>169 Đường liên khu 4-5, Phường Bình Hưng Hòa B...</td>\n",
       "      <td>3211: Sản xuất đồ kim hoàn và chi tiết liên qu...</td>\n",
       "    </tr>\n",
       "    <tr>\n",
       "      <th>4</th>\n",
       "      <td>0313640209</td>\n",
       "      <td>CÔNG TY TNHH THƯƠNG MẠI THIÊN NHẬT PHÁT</td>\n",
       "      <td>28/01/2016</td>\n",
       "      <td>Công ty trách nhiệm hữu hạn một thành viên</td>\n",
       "      <td>186 Lưu Hữu Phước, Phường 15, Quận 8, Thành ph...</td>\n",
       "      <td>2592: Gia công cơ khí; xử lý và tráng phủ kim ...</td>\n",
       "    </tr>\n",
       "  </tbody>\n",
       "</table>\n",
       "</div>"
      ],
      "text/plain": [
       "       MaSoDN                                              TenDN     NgayCap  \\\n",
       "0  0313597320                                CÔNG TY TNHH LAVITA  04/01/2016   \n",
       "1  0313597507   CÔNG TY TNHH ĐẦU TƯ PHÁT TRIỂN KHÁCH SẠN SÀI GÒN  04/01/2016   \n",
       "2  0313587386  CÔNG TY TRÁCH NHIỆM HỮU HẠN MỘT THÀNH VIÊN DỊC...  01/01/2016   \n",
       "3  0313599208  DOANH NGHIỆP TƯ NHÂN THƯƠNG MẠI VÀNG BẠC ĐÁ QU...  04/01/2016   \n",
       "4  0313640209            CÔNG TY TNHH THƯƠNG MẠI THIÊN NHẬT PHÁT  28/01/2016   \n",
       "\n",
       "                                              LoaiDN  \\\n",
       "0  Công ty trách nhiệm hữu hạn hai thành viên trở...   \n",
       "1         Công ty trách nhiệm hữu hạn một thành viên   \n",
       "2         Công ty trách nhiệm hữu hạn một thành viên   \n",
       "3                               Doanh nghiệp tư nhân   \n",
       "4         Công ty trách nhiệm hữu hạn một thành viên   \n",
       "\n",
       "                                              DiaChi  \\\n",
       "0  32-Đ6 Sài Gòn Pearl Villas-92 Nguyễn Hữu Cảnh,...   \n",
       "1  Số 1122/1 Quang Trung, Phường 8, Quận Gò Vấp, ...   \n",
       "2  Số 49 Trường Sơn, Phường 2, Quận Tân Bình, Thà...   \n",
       "3  169 Đường liên khu 4-5, Phường Bình Hưng Hòa B...   \n",
       "4  186 Lưu Hữu Phước, Phường 15, Quận 8, Thành ph...   \n",
       "\n",
       "                                           NganhNghe  \n",
       "0  1621: Sản xuất gỗ dán, gỗ lạng, ván ép và ván ...  \n",
       "1  5510: Dịch vụ lưu trú ngắn ngày--Chi tiết: Kin...  \n",
       "2  8559: Giáo dục khác chưa được phân vào đâu-Chi...  \n",
       "3  3211: Sản xuất đồ kim hoàn và chi tiết liên qu...  \n",
       "4  2592: Gia công cơ khí; xử lý và tráng phủ kim ...  "
      ]
     },
     "execution_count": 10,
     "metadata": {},
     "output_type": "execute_result"
    }
   ],
   "source": [
    "active_corp = pd.read_csv('../dataset/DN-HCM/DanhSachDangHoatDong_1.csv', dtype='unicode')\n",
    "active_corp.head()"
   ]
  },
  {
   "cell_type": "code",
   "execution_count": 12,
   "id": "284ca86c-18cb-4378-b047-8f32cf008b76",
   "metadata": {},
   "outputs": [
    {
     "data": {
      "text/plain": [
       "LoaiDN\n",
       "Công ty trách nhiệm hữu hạn một thành viên            58.416481\n",
       "Công ty trách nhiệm hữu hạn hai thành viên trở lên    27.437738\n",
       "Công ty cổ phần                                       13.212096\n",
       "Doanh nghiệp tư nhân                                   0.923333\n",
       "Công ty hợp danh                                       0.010352\n",
       "Name: count, dtype: float64"
      ]
     },
     "execution_count": 12,
     "metadata": {},
     "output_type": "execute_result"
    }
   ],
   "source": [
    "active_corp['LoaiDN'].value_counts()*100/active_corp.shape[0]"
   ]
  },
  {
   "cell_type": "code",
   "execution_count": 13,
   "id": "a79c3772-4257-44f9-8c80-9152b8d92f4d",
   "metadata": {
    "scrolled": true
   },
   "outputs": [
    {
     "data": {
      "text/plain": [
       "LoaiDN\n",
       "Công ty trách nhiệm hữu hạn một thành viên            118499\n",
       "Công ty trách nhiệm hữu hạn hai thành viên trở lên     55658\n",
       "Công ty cổ phần                                        26801\n",
       "Doanh nghiệp tư nhân                                    1873\n",
       "Công ty hợp danh                                          21\n",
       "Name: count, dtype: int64"
      ]
     },
     "execution_count": 13,
     "metadata": {},
     "output_type": "execute_result"
    }
   ],
   "source": [
    "active_corp['LoaiDN'].value_counts()"
   ]
  },
  {
   "cell_type": "code",
   "execution_count": 17,
   "id": "cbe94457-3f62-4559-9876-91d03a855352",
   "metadata": {},
   "outputs": [
    {
     "data": {
      "text/html": [
       "<div>\n",
       "<style scoped>\n",
       "    .dataframe tbody tr th:only-of-type {\n",
       "        vertical-align: middle;\n",
       "    }\n",
       "\n",
       "    .dataframe tbody tr th {\n",
       "        vertical-align: top;\n",
       "    }\n",
       "\n",
       "    .dataframe thead th {\n",
       "        text-align: right;\n",
       "    }\n",
       "</style>\n",
       "<table border=\"1\" class=\"dataframe\">\n",
       "  <thead>\n",
       "    <tr style=\"text-align: right;\">\n",
       "      <th></th>\n",
       "      <th>MaSoDN</th>\n",
       "      <th>TenDN</th>\n",
       "      <th>NgayCap</th>\n",
       "      <th>LoaiDN</th>\n",
       "      <th>DiaChi</th>\n",
       "      <th>NganhNghe</th>\n",
       "    </tr>\n",
       "  </thead>\n",
       "  <tbody>\n",
       "    <tr>\n",
       "      <th>13</th>\n",
       "      <td>0313603461</td>\n",
       "      <td>CÔNG TY CỔ PHẦN TẬP ĐOÀN HUTIMEX</td>\n",
       "      <td>06/01/2016</td>\n",
       "      <td>Công ty cổ phần</td>\n",
       "      <td>168/47A Đường Chiến Lược, Khu phố 8, Phường Bì...</td>\n",
       "      <td>0112: Trồng ngô và cây lương thực có hạt khác-...</td>\n",
       "    </tr>\n",
       "    <tr>\n",
       "      <th>26</th>\n",
       "      <td>0313598388</td>\n",
       "      <td>CÔNG TY CỔ PHẦN BẤT ĐỘNG SẢN KEYLAND</td>\n",
       "      <td>04/01/2016</td>\n",
       "      <td>Công ty cổ phần</td>\n",
       "      <td>287 Đường Ấp 2, Phường An Phú, Thành phố Thủ Đ...</td>\n",
       "      <td>6820: Tư vấn, môi giới, đấu giá bất động sản, ...</td>\n",
       "    </tr>\n",
       "    <tr>\n",
       "      <th>28</th>\n",
       "      <td>0313598532</td>\n",
       "      <td>CÔNG TY CỔ PHẦN NĂNG LƯỢNG MÔI TRƯỜNG HOÀNG HẢ...</td>\n",
       "      <td>04/01/2016</td>\n",
       "      <td>Công ty cổ phần</td>\n",
       "      <td>144 A Đường Trần Văn Chẩm , Xã Phước Vĩnh An, ...</td>\n",
       "      <td>0113: Trồng cây lấy củ có chất bột-(không hoạt...</td>\n",
       "    </tr>\n",
       "    <tr>\n",
       "      <th>29</th>\n",
       "      <td>0313598733</td>\n",
       "      <td>CÔNG TY CỔ PHẦN PHÁT TRIỂN BẤT ĐỘNG SẢN THÀNH ...</td>\n",
       "      <td>04/01/2016</td>\n",
       "      <td>Công ty cổ phần</td>\n",
       "      <td>174 Trần Phú, Phường 09, Quận 5, Thành phố Hồ ...</td>\n",
       "      <td>4652: Bán buôn thiết bị và linh kiện điện tử, ...</td>\n",
       "    </tr>\n",
       "    <tr>\n",
       "      <th>61</th>\n",
       "      <td>0313599310</td>\n",
       "      <td>CÔNG TY CỔ PHẦN GIẢI PHÁP CNC</td>\n",
       "      <td>04/01/2016</td>\n",
       "      <td>Công ty cổ phần</td>\n",
       "      <td>Phòng 6.11 Lầu 6, Cao Ốc Thịnh Vượng, số 531 N...</td>\n",
       "      <td>2593: Sản xuất dao kéo, dụng cụ cầm tay và đồ ...</td>\n",
       "    </tr>\n",
       "    <tr>\n",
       "      <th>...</th>\n",
       "      <td>...</td>\n",
       "      <td>...</td>\n",
       "      <td>...</td>\n",
       "      <td>...</td>\n",
       "      <td>...</td>\n",
       "      <td>...</td>\n",
       "    </tr>\n",
       "    <tr>\n",
       "      <th>202803</th>\n",
       "      <td>0317004388</td>\n",
       "      <td>CÔNG TY CỔ PHẦN SAIGON ROYAL HOME</td>\n",
       "      <td>29/10/2021</td>\n",
       "      <td>Công ty cổ phần</td>\n",
       "      <td>15/12 Hồng Hà, Phường 2, Quận Tân Bình, Thành ...</td>\n",
       "      <td>2511: Sản xuất các cấu kiện kim loại-;2512: Sả...</td>\n",
       "    </tr>\n",
       "    <tr>\n",
       "      <th>202805</th>\n",
       "      <td>0317004363</td>\n",
       "      <td>CÔNG TY CỔ PHẦN BÉ AN TOÀN</td>\n",
       "      <td>29/10/2021</td>\n",
       "      <td>Công ty cổ phần</td>\n",
       "      <td>27A Hoàng Việt, Phường 4, Quận Tân Bình, Thành...</td>\n",
       "      <td>4649: Bán buôn đồ dùng khác cho gia đình-(trừ ...</td>\n",
       "    </tr>\n",
       "    <tr>\n",
       "      <th>202812</th>\n",
       "      <td>0317001299</td>\n",
       "      <td>CÔNG TY CỔ PHẦN ĐỊA ỐC GIA CÁT LỢI</td>\n",
       "      <td>29/10/2021</td>\n",
       "      <td>Công ty cổ phần</td>\n",
       "      <td>163 Đường Nguyễn Thị Nhung, KDC Vạn Phúc 1, Qu...</td>\n",
       "      <td>6810: Kinh doanh bất động sản, quyền sử dụng đ...</td>\n",
       "    </tr>\n",
       "    <tr>\n",
       "      <th>202846</th>\n",
       "      <td>0317004853</td>\n",
       "      <td>CÔNG TY CỔ PHẦN XÂY DỰNG - XUẤT NHẬP KHẨU ĐÔNG...</td>\n",
       "      <td>29/10/2021</td>\n",
       "      <td>Công ty cổ phần</td>\n",
       "      <td>Số 63 KP8 Đường 36, Phường Linh Đông, Thành ph...</td>\n",
       "      <td>6810: Kinh doanh bất động sản, quyền sử dụng đ...</td>\n",
       "    </tr>\n",
       "    <tr>\n",
       "      <th>202849</th>\n",
       "      <td>0402078119</td>\n",
       "      <td>CÔNG TY CỔ PHẦN FRIENDLY DEV CO</td>\n",
       "      <td>11/01/2021</td>\n",
       "      <td>Công ty cổ phần</td>\n",
       "      <td>Tòa nhà Serepok, 56 Nguyễn Đình Chiểu, Phường ...</td>\n",
       "      <td>7310: Quảng cáo-(không dập, cắt, gò, hàn, đồng...</td>\n",
       "    </tr>\n",
       "  </tbody>\n",
       "</table>\n",
       "<p>26801 rows × 6 columns</p>\n",
       "</div>"
      ],
      "text/plain": [
       "            MaSoDN                                              TenDN  \\\n",
       "13      0313603461                   CÔNG TY CỔ PHẦN TẬP ĐOÀN HUTIMEX   \n",
       "26      0313598388               CÔNG TY CỔ PHẦN BẤT ĐỘNG SẢN KEYLAND   \n",
       "28      0313598532  CÔNG TY CỔ PHẦN NĂNG LƯỢNG MÔI TRƯỜNG HOÀNG HẢ...   \n",
       "29      0313598733  CÔNG TY CỔ PHẦN PHÁT TRIỂN BẤT ĐỘNG SẢN THÀNH ...   \n",
       "61      0313599310                      CÔNG TY CỔ PHẦN GIẢI PHÁP CNC   \n",
       "...            ...                                                ...   \n",
       "202803  0317004388                  CÔNG TY CỔ PHẦN SAIGON ROYAL HOME   \n",
       "202805  0317004363                         CÔNG TY CỔ PHẦN BÉ AN TOÀN   \n",
       "202812  0317001299                 CÔNG TY CỔ PHẦN ĐỊA ỐC GIA CÁT LỢI   \n",
       "202846  0317004853  CÔNG TY CỔ PHẦN XÂY DỰNG - XUẤT NHẬP KHẨU ĐÔNG...   \n",
       "202849  0402078119                    CÔNG TY CỔ PHẦN FRIENDLY DEV CO   \n",
       "\n",
       "           NgayCap           LoaiDN  \\\n",
       "13      06/01/2016  Công ty cổ phần   \n",
       "26      04/01/2016  Công ty cổ phần   \n",
       "28      04/01/2016  Công ty cổ phần   \n",
       "29      04/01/2016  Công ty cổ phần   \n",
       "61      04/01/2016  Công ty cổ phần   \n",
       "...            ...              ...   \n",
       "202803  29/10/2021  Công ty cổ phần   \n",
       "202805  29/10/2021  Công ty cổ phần   \n",
       "202812  29/10/2021  Công ty cổ phần   \n",
       "202846  29/10/2021  Công ty cổ phần   \n",
       "202849  11/01/2021  Công ty cổ phần   \n",
       "\n",
       "                                                   DiaChi  \\\n",
       "13      168/47A Đường Chiến Lược, Khu phố 8, Phường Bì...   \n",
       "26      287 Đường Ấp 2, Phường An Phú, Thành phố Thủ Đ...   \n",
       "28      144 A Đường Trần Văn Chẩm , Xã Phước Vĩnh An, ...   \n",
       "29      174 Trần Phú, Phường 09, Quận 5, Thành phố Hồ ...   \n",
       "61      Phòng 6.11 Lầu 6, Cao Ốc Thịnh Vượng, số 531 N...   \n",
       "...                                                   ...   \n",
       "202803  15/12 Hồng Hà, Phường 2, Quận Tân Bình, Thành ...   \n",
       "202805  27A Hoàng Việt, Phường 4, Quận Tân Bình, Thành...   \n",
       "202812  163 Đường Nguyễn Thị Nhung, KDC Vạn Phúc 1, Qu...   \n",
       "202846  Số 63 KP8 Đường 36, Phường Linh Đông, Thành ph...   \n",
       "202849  Tòa nhà Serepok, 56 Nguyễn Đình Chiểu, Phường ...   \n",
       "\n",
       "                                                NganhNghe  \n",
       "13      0112: Trồng ngô và cây lương thực có hạt khác-...  \n",
       "26      6820: Tư vấn, môi giới, đấu giá bất động sản, ...  \n",
       "28      0113: Trồng cây lấy củ có chất bột-(không hoạt...  \n",
       "29      4652: Bán buôn thiết bị và linh kiện điện tử, ...  \n",
       "61      2593: Sản xuất dao kéo, dụng cụ cầm tay và đồ ...  \n",
       "...                                                   ...  \n",
       "202803  2511: Sản xuất các cấu kiện kim loại-;2512: Sả...  \n",
       "202805  4649: Bán buôn đồ dùng khác cho gia đình-(trừ ...  \n",
       "202812  6810: Kinh doanh bất động sản, quyền sử dụng đ...  \n",
       "202846  6810: Kinh doanh bất động sản, quyền sử dụng đ...  \n",
       "202849  7310: Quảng cáo-(không dập, cắt, gò, hàn, đồng...  \n",
       "\n",
       "[26801 rows x 6 columns]"
      ]
     },
     "execution_count": 17,
     "metadata": {},
     "output_type": "execute_result"
    }
   ],
   "source": [
    "active_corp[active_corp.LoaiDN == 'Công ty cổ phần']"
   ]
  },
  {
   "cell_type": "code",
   "execution_count": null,
   "id": "18461887-29e7-4423-b192-9041300a4bba",
   "metadata": {},
   "outputs": [],
   "source": [
    "active_corp[]"
   ]
  },
  {
   "cell_type": "code",
   "execution_count": 23,
   "id": "e2ff595a-6c22-4533-984a-7c3acefad7a5",
   "metadata": {},
   "outputs": [
    {
     "data": {
      "text/plain": [
       "'01/01/2016'"
      ]
     },
     "execution_count": 23,
     "metadata": {},
     "output_type": "execute_result"
    }
   ],
   "source": [
    "active_corp.NgayCap.min()"
   ]
  },
  {
   "cell_type": "code",
   "execution_count": 24,
   "id": "661ae540-b8de-408c-877b-0d8a82392661",
   "metadata": {},
   "outputs": [
    {
     "data": {
      "text/plain": [
       "'31/12/2020'"
      ]
     },
     "execution_count": 24,
     "metadata": {},
     "output_type": "execute_result"
    }
   ],
   "source": [
    "active_corp.NgayCap.max()"
   ]
  },
  {
   "cell_type": "code",
   "execution_count": 22,
   "id": "b321a61c-b1f9-4143-b570-159075f45136",
   "metadata": {},
   "outputs": [
    {
     "ename": "SyntaxError",
     "evalue": "leading zeros in decimal integer literals are not permitted; use an 0o prefix for octal integers (3017753366.py, line 1)",
     "output_type": "error",
     "traceback": [
      "\u001b[1;36m  Cell \u001b[1;32mIn[22], line 1\u001b[1;36m\u001b[0m\n\u001b[1;33m    active_corp[active_corp.MaSoDN == 0303490096]\u001b[0m\n\u001b[1;37m                                               ^\u001b[0m\n\u001b[1;31mSyntaxError\u001b[0m\u001b[1;31m:\u001b[0m leading zeros in decimal integer literals are not permitted; use an 0o prefix for octal integers\n"
     ]
    }
   ],
   "source": [
    "active_corp[active_corp.MaSoDN == '0303490096']"
   ]
  },
  {
   "cell_type": "code",
   "execution_count": 20,
   "id": "b5afe56e-e5cc-4ea4-af75-e3c60582b5db",
   "metadata": {},
   "outputs": [
    {
     "data": {
      "text/html": [
       "<div>\n",
       "<style scoped>\n",
       "    .dataframe tbody tr th:only-of-type {\n",
       "        vertical-align: middle;\n",
       "    }\n",
       "\n",
       "    .dataframe tbody tr th {\n",
       "        vertical-align: top;\n",
       "    }\n",
       "\n",
       "    .dataframe thead th {\n",
       "        text-align: right;\n",
       "    }\n",
       "</style>\n",
       "<table border=\"1\" class=\"dataframe\">\n",
       "  <thead>\n",
       "    <tr style=\"text-align: right;\">\n",
       "      <th></th>\n",
       "      <th>MaSoDN</th>\n",
       "      <th>TenDN</th>\n",
       "      <th>NgayCap</th>\n",
       "      <th>LoaiDN</th>\n",
       "      <th>DiaChi</th>\n",
       "      <th>NganhNghe</th>\n",
       "    </tr>\n",
       "  </thead>\n",
       "  <tbody>\n",
       "    <tr>\n",
       "      <th>7829</th>\n",
       "      <td>0313769883</td>\n",
       "      <td>CÔNG TY CỔ PHẦN ĐẦU TƯ BẤT ĐỘNG SẢN VNG SÀI GÒN</td>\n",
       "      <td>22/04/2016</td>\n",
       "      <td>Công ty cổ phần</td>\n",
       "      <td>4A Phạm Ngọc Thạch, Phường Bến Nghé, Quận 1, T...</td>\n",
       "      <td>5510: Dịch vụ lưu trú ngắn ngày-Chi tiết: Khác...</td>\n",
       "    </tr>\n",
       "    <tr>\n",
       "      <th>37099</th>\n",
       "      <td>0314310884</td>\n",
       "      <td>CÔNG TY TNHH VNG LOGISTICS</td>\n",
       "      <td>24/03/2017</td>\n",
       "      <td>Công ty trách nhiệm hữu hạn hai thành viên trở...</td>\n",
       "      <td>L18-11-13, Tầng 18 Tòa nhà Vincom Center Đồng ...</td>\n",
       "      <td>5229: Hoạt động dịch vụ hỗ trợ khác liên quan ...</td>\n",
       "    </tr>\n",
       "    <tr>\n",
       "      <th>41722</th>\n",
       "      <td>0314415301</td>\n",
       "      <td>CÔNG TY TNHH THƯƠNG MẠI DỊCH VỤ VNGROUP</td>\n",
       "      <td>22/05/2017</td>\n",
       "      <td>Công ty trách nhiệm hữu hạn một thành viên</td>\n",
       "      <td>168/25 Đường D2, Phường 25, Quận Bình Thạnh, T...</td>\n",
       "      <td>4711: Bán lẻ lương thực, thực phẩm, đồ uống, t...</td>\n",
       "    </tr>\n",
       "    <tr>\n",
       "      <th>82405</th>\n",
       "      <td>0315217422</td>\n",
       "      <td>CÔNG TY TNHH MỘT THÀNH VIÊN DỊCH VỤ - AN NINH ...</td>\n",
       "      <td>10/08/2018</td>\n",
       "      <td>Công ty trách nhiệm hữu hạn một thành viên</td>\n",
       "      <td>Căn hộ số: 0.16, tầng trệt, chung cư Thới An, ...</td>\n",
       "      <td>8010: Hoạt động bảo vệ cá nhân-Chi tiết: Kinh ...</td>\n",
       "    </tr>\n",
       "    <tr>\n",
       "      <th>92402</th>\n",
       "      <td>0315368164</td>\n",
       "      <td>CÔNG TY TNHH ĐẦU TƯ KINH DOANH VÀ PHÁT TRIỂN V...</td>\n",
       "      <td>02/11/2018</td>\n",
       "      <td>Công ty trách nhiệm hữu hạn hai thành viên trở...</td>\n",
       "      <td>Số 59, Đường số 2, Khu Melosa Garden, Phường P...</td>\n",
       "      <td>4669: Bán buôn chuyên doanh khác chưa được phâ...</td>\n",
       "    </tr>\n",
       "    <tr>\n",
       "      <th>106546</th>\n",
       "      <td>0315552491</td>\n",
       "      <td>CÔNG TY TNHH THƯƠNG MẠI VÀ DỊCH VỤ DU LỊCH VNG...</td>\n",
       "      <td>08/03/2019</td>\n",
       "      <td>Công ty trách nhiệm hữu hạn hai thành viên trở...</td>\n",
       "      <td>42M Đường 9M , Phường Tân Thuận Tây, Quận 7, T...</td>\n",
       "      <td>7310: Quảng cáo-Chi tiết: Quảng cáo thương mại...</td>\n",
       "    </tr>\n",
       "    <tr>\n",
       "      <th>112860</th>\n",
       "      <td>0315662053</td>\n",
       "      <td>CÔNG TY TNHH THẨM MỸ VNG VIỆT NAM</td>\n",
       "      <td>06/05/2019</td>\n",
       "      <td>Công ty trách nhiệm hữu hạn hai thành viên trở...</td>\n",
       "      <td>34A Tân Thới Hiệp 08, Phường Tân Thới Hiệp, Qu...</td>\n",
       "      <td>4649: Bán buôn đồ dùng khác cho gia đình-(Chi ...</td>\n",
       "    </tr>\n",
       "    <tr>\n",
       "      <th>145827</th>\n",
       "      <td>0316176017</td>\n",
       "      <td>CÔNG TY TNHH VNG DATA CENTER</td>\n",
       "      <td>03/03/2020</td>\n",
       "      <td>Công ty trách nhiệm hữu hạn một thành viên</td>\n",
       "      <td>Z06 Đường số 13, Phường Tân Thuận Đông, Quận 7...</td>\n",
       "      <td>2620: Sản xuất máy vi tính và thiết bị ngoại v...</td>\n",
       "    </tr>\n",
       "    <tr>\n",
       "      <th>149577</th>\n",
       "      <td>0316250912</td>\n",
       "      <td>CÔNG TY CỔ PHẦN THƯƠNG MẠI XUẤT NHẬP KHẨU VNG</td>\n",
       "      <td>28/04/2020</td>\n",
       "      <td>Công ty cổ phần</td>\n",
       "      <td>347/19/3D Chu Văn An, Phường 12, Quận Bình Thạ...</td>\n",
       "      <td>4322: Lắp đặt hệ thống cấp, thoát nước, hệ thố...</td>\n",
       "    </tr>\n",
       "    <tr>\n",
       "      <th>182758</th>\n",
       "      <td>0316725852</td>\n",
       "      <td>CÔNG TY TNHH VNG CAPITAL</td>\n",
       "      <td>01/03/2021</td>\n",
       "      <td>Công ty trách nhiệm hữu hạn hai thành viên trở...</td>\n",
       "      <td>45B Trần Nhật Duật, Phường Tân Định, Quận 1, T...</td>\n",
       "      <td>4101: Xây dựng nhà để ở-;4102: Xây dựng nhà kh...</td>\n",
       "    </tr>\n",
       "    <tr>\n",
       "      <th>190665</th>\n",
       "      <td>0316835654</td>\n",
       "      <td>CÔNG TY CỔ PHẦN HOÀNG HUY VNG</td>\n",
       "      <td>29/04/2021</td>\n",
       "      <td>Công ty cổ phần</td>\n",
       "      <td>116/36 Bình Lợi, Phường 13, Quận Bình Thạnh, T...</td>\n",
       "      <td>1811: In ấn-(trừ các loại hình Nhà nước cấm);1...</td>\n",
       "    </tr>\n",
       "    <tr>\n",
       "      <th>191399</th>\n",
       "      <td>0316845116</td>\n",
       "      <td>CÔNG TY CỔ PHẦN VNG EDUCATION 21</td>\n",
       "      <td>07/05/2021</td>\n",
       "      <td>Công ty cổ phần</td>\n",
       "      <td>Lầu 14-08B, Toà nhà Vincom Center số 72 Lê Thá...</td>\n",
       "      <td>8559: Giáo dục khác chưa được phân vào đâu-;85...</td>\n",
       "    </tr>\n",
       "    <tr>\n",
       "      <th>191410</th>\n",
       "      <td>0316844070</td>\n",
       "      <td>CÔNG TY CỔ PHẦN DỊCH VỤ NĂNG LƯỢNG VNG</td>\n",
       "      <td>07/05/2021</td>\n",
       "      <td>Công ty cổ phần</td>\n",
       "      <td>Văn Phòng 02, Tầng 8 Tòa Nhà Pearl Plaza, 561A...</td>\n",
       "      <td>3511: Sản xuất điện-Chi tiết: sản xuất các loạ...</td>\n",
       "    </tr>\n",
       "    <tr>\n",
       "      <th>195895</th>\n",
       "      <td>0316904675</td>\n",
       "      <td>CÔNG TY TNHH VNGREENBLUE</td>\n",
       "      <td>11/06/2021</td>\n",
       "      <td>Công ty trách nhiệm hữu hạn một thành viên</td>\n",
       "      <td>70 Đường số 1, Phường 4, Quận Gò Vấp, Thành ph...</td>\n",
       "      <td>2817: Sản xuất máy móc và thiết bị văn phòng (...</td>\n",
       "    </tr>\n",
       "    <tr>\n",
       "      <th>196452</th>\n",
       "      <td>0316912299</td>\n",
       "      <td>CÔNG TY TNHH VNGROCERY</td>\n",
       "      <td>18/06/2021</td>\n",
       "      <td>Công ty trách nhiệm hữu hạn một thành viên</td>\n",
       "      <td>84 Năm Châu, Phường 12, Quận Tân Bình, Thành p...</td>\n",
       "      <td>4620: Bán buôn nông, lâm sản nguyên liệu (trừ ...</td>\n",
       "    </tr>\n",
       "    <tr>\n",
       "      <th>202584</th>\n",
       "      <td>0317000432</td>\n",
       "      <td>CÔNG TY TNHH THƯƠNG MẠI VNG</td>\n",
       "      <td>28/10/2021</td>\n",
       "      <td>Công ty trách nhiệm hữu hạn một thành viên</td>\n",
       "      <td>Tầng 1, Số 207A Nguyễn Văn Thủ, Phường Đa Kao,...</td>\n",
       "      <td>4610: Đại lý, môi giới, đấu giá hàng hóa-Chi t...</td>\n",
       "    </tr>\n",
       "  </tbody>\n",
       "</table>\n",
       "</div>"
      ],
      "text/plain": [
       "            MaSoDN                                              TenDN  \\\n",
       "7829    0313769883    CÔNG TY CỔ PHẦN ĐẦU TƯ BẤT ĐỘNG SẢN VNG SÀI GÒN   \n",
       "37099   0314310884                         CÔNG TY TNHH VNG LOGISTICS   \n",
       "41722   0314415301            CÔNG TY TNHH THƯƠNG MẠI DỊCH VỤ VNGROUP   \n",
       "82405   0315217422  CÔNG TY TNHH MỘT THÀNH VIÊN DỊCH VỤ - AN NINH ...   \n",
       "92402   0315368164  CÔNG TY TNHH ĐẦU TƯ KINH DOANH VÀ PHÁT TRIỂN V...   \n",
       "106546  0315552491  CÔNG TY TNHH THƯƠNG MẠI VÀ DỊCH VỤ DU LỊCH VNG...   \n",
       "112860  0315662053                  CÔNG TY TNHH THẨM MỸ VNG VIỆT NAM   \n",
       "145827  0316176017                       CÔNG TY TNHH VNG DATA CENTER   \n",
       "149577  0316250912      CÔNG TY CỔ PHẦN THƯƠNG MẠI XUẤT NHẬP KHẨU VNG   \n",
       "182758  0316725852                           CÔNG TY TNHH VNG CAPITAL   \n",
       "190665  0316835654                      CÔNG TY CỔ PHẦN HOÀNG HUY VNG   \n",
       "191399  0316845116                   CÔNG TY CỔ PHẦN VNG EDUCATION 21   \n",
       "191410  0316844070             CÔNG TY CỔ PHẦN DỊCH VỤ NĂNG LƯỢNG VNG   \n",
       "195895  0316904675                           CÔNG TY TNHH VNGREENBLUE   \n",
       "196452  0316912299                             CÔNG TY TNHH VNGROCERY   \n",
       "202584  0317000432                        CÔNG TY TNHH THƯƠNG MẠI VNG   \n",
       "\n",
       "           NgayCap                                             LoaiDN  \\\n",
       "7829    22/04/2016                                    Công ty cổ phần   \n",
       "37099   24/03/2017  Công ty trách nhiệm hữu hạn hai thành viên trở...   \n",
       "41722   22/05/2017         Công ty trách nhiệm hữu hạn một thành viên   \n",
       "82405   10/08/2018         Công ty trách nhiệm hữu hạn một thành viên   \n",
       "92402   02/11/2018  Công ty trách nhiệm hữu hạn hai thành viên trở...   \n",
       "106546  08/03/2019  Công ty trách nhiệm hữu hạn hai thành viên trở...   \n",
       "112860  06/05/2019  Công ty trách nhiệm hữu hạn hai thành viên trở...   \n",
       "145827  03/03/2020         Công ty trách nhiệm hữu hạn một thành viên   \n",
       "149577  28/04/2020                                    Công ty cổ phần   \n",
       "182758  01/03/2021  Công ty trách nhiệm hữu hạn hai thành viên trở...   \n",
       "190665  29/04/2021                                    Công ty cổ phần   \n",
       "191399  07/05/2021                                    Công ty cổ phần   \n",
       "191410  07/05/2021                                    Công ty cổ phần   \n",
       "195895  11/06/2021         Công ty trách nhiệm hữu hạn một thành viên   \n",
       "196452  18/06/2021         Công ty trách nhiệm hữu hạn một thành viên   \n",
       "202584  28/10/2021         Công ty trách nhiệm hữu hạn một thành viên   \n",
       "\n",
       "                                                   DiaChi  \\\n",
       "7829    4A Phạm Ngọc Thạch, Phường Bến Nghé, Quận 1, T...   \n",
       "37099   L18-11-13, Tầng 18 Tòa nhà Vincom Center Đồng ...   \n",
       "41722   168/25 Đường D2, Phường 25, Quận Bình Thạnh, T...   \n",
       "82405   Căn hộ số: 0.16, tầng trệt, chung cư Thới An, ...   \n",
       "92402   Số 59, Đường số 2, Khu Melosa Garden, Phường P...   \n",
       "106546  42M Đường 9M , Phường Tân Thuận Tây, Quận 7, T...   \n",
       "112860  34A Tân Thới Hiệp 08, Phường Tân Thới Hiệp, Qu...   \n",
       "145827  Z06 Đường số 13, Phường Tân Thuận Đông, Quận 7...   \n",
       "149577  347/19/3D Chu Văn An, Phường 12, Quận Bình Thạ...   \n",
       "182758  45B Trần Nhật Duật, Phường Tân Định, Quận 1, T...   \n",
       "190665  116/36 Bình Lợi, Phường 13, Quận Bình Thạnh, T...   \n",
       "191399  Lầu 14-08B, Toà nhà Vincom Center số 72 Lê Thá...   \n",
       "191410  Văn Phòng 02, Tầng 8 Tòa Nhà Pearl Plaza, 561A...   \n",
       "195895  70 Đường số 1, Phường 4, Quận Gò Vấp, Thành ph...   \n",
       "196452  84 Năm Châu, Phường 12, Quận Tân Bình, Thành p...   \n",
       "202584  Tầng 1, Số 207A Nguyễn Văn Thủ, Phường Đa Kao,...   \n",
       "\n",
       "                                                NganhNghe  \n",
       "7829    5510: Dịch vụ lưu trú ngắn ngày-Chi tiết: Khác...  \n",
       "37099   5229: Hoạt động dịch vụ hỗ trợ khác liên quan ...  \n",
       "41722   4711: Bán lẻ lương thực, thực phẩm, đồ uống, t...  \n",
       "82405   8010: Hoạt động bảo vệ cá nhân-Chi tiết: Kinh ...  \n",
       "92402   4669: Bán buôn chuyên doanh khác chưa được phâ...  \n",
       "106546  7310: Quảng cáo-Chi tiết: Quảng cáo thương mại...  \n",
       "112860  4649: Bán buôn đồ dùng khác cho gia đình-(Chi ...  \n",
       "145827  2620: Sản xuất máy vi tính và thiết bị ngoại v...  \n",
       "149577  4322: Lắp đặt hệ thống cấp, thoát nước, hệ thố...  \n",
       "182758  4101: Xây dựng nhà để ở-;4102: Xây dựng nhà kh...  \n",
       "190665  1811: In ấn-(trừ các loại hình Nhà nước cấm);1...  \n",
       "191399  8559: Giáo dục khác chưa được phân vào đâu-;85...  \n",
       "191410  3511: Sản xuất điện-Chi tiết: sản xuất các loạ...  \n",
       "195895  2817: Sản xuất máy móc và thiết bị văn phòng (...  \n",
       "196452  4620: Bán buôn nông, lâm sản nguyên liệu (trừ ...  \n",
       "202584  4610: Đại lý, môi giới, đấu giá hàng hóa-Chi t...  "
      ]
     },
     "execution_count": 20,
     "metadata": {},
     "output_type": "execute_result"
    }
   ],
   "source": [
    "active_corp[active_corp.TenDN.str.contains('VNG')]"
   ]
  },
  {
   "cell_type": "markdown",
   "id": "032a6862-b959-44cd-864a-f55becdfa64e",
   "metadata": {},
   "source": [
    "# Danh sách bổ sung"
   ]
  },
  {
   "cell_type": "code",
   "execution_count": 26,
   "id": "f460c0ad-1f2c-44a4-bd3b-480d9415c773",
   "metadata": {},
   "outputs": [
    {
     "ename": "ParserError",
     "evalue": "Error tokenizing data. C error: Expected 8 fields in line 230, saw 9\n",
     "output_type": "error",
     "traceback": [
      "\u001b[1;31m---------------------------------------------------------------------------\u001b[0m",
      "\u001b[1;31mParserError\u001b[0m                               Traceback (most recent call last)",
      "Cell \u001b[1;32mIn[26], line 1\u001b[0m\n\u001b[1;32m----> 1\u001b[0m dsbs \u001b[38;5;241m=\u001b[39m \u001b[43mpd\u001b[49m\u001b[38;5;241;43m.\u001b[39;49m\u001b[43mread_csv\u001b[49m\u001b[43m(\u001b[49m\u001b[38;5;124;43m'\u001b[39;49m\u001b[38;5;124;43m../dataset/DN-HCM/DanhSachBoSung.csv\u001b[39;49m\u001b[38;5;124;43m'\u001b[39;49m\u001b[43m)\u001b[49m\n\u001b[0;32m      2\u001b[0m dsbs\u001b[38;5;241m.\u001b[39mhead()\n",
      "File \u001b[1;32m~\\anaconda3\\envs\\thuantt2\\lib\\site-packages\\pandas\\io\\parsers\\readers.py:1026\u001b[0m, in \u001b[0;36mread_csv\u001b[1;34m(filepath_or_buffer, sep, delimiter, header, names, index_col, usecols, dtype, engine, converters, true_values, false_values, skipinitialspace, skiprows, skipfooter, nrows, na_values, keep_default_na, na_filter, verbose, skip_blank_lines, parse_dates, infer_datetime_format, keep_date_col, date_parser, date_format, dayfirst, cache_dates, iterator, chunksize, compression, thousands, decimal, lineterminator, quotechar, quoting, doublequote, escapechar, comment, encoding, encoding_errors, dialect, on_bad_lines, delim_whitespace, low_memory, memory_map, float_precision, storage_options, dtype_backend)\u001b[0m\n\u001b[0;32m   1013\u001b[0m kwds_defaults \u001b[38;5;241m=\u001b[39m _refine_defaults_read(\n\u001b[0;32m   1014\u001b[0m     dialect,\n\u001b[0;32m   1015\u001b[0m     delimiter,\n\u001b[1;32m   (...)\u001b[0m\n\u001b[0;32m   1022\u001b[0m     dtype_backend\u001b[38;5;241m=\u001b[39mdtype_backend,\n\u001b[0;32m   1023\u001b[0m )\n\u001b[0;32m   1024\u001b[0m kwds\u001b[38;5;241m.\u001b[39mupdate(kwds_defaults)\n\u001b[1;32m-> 1026\u001b[0m \u001b[38;5;28;01mreturn\u001b[39;00m \u001b[43m_read\u001b[49m\u001b[43m(\u001b[49m\u001b[43mfilepath_or_buffer\u001b[49m\u001b[43m,\u001b[49m\u001b[43m \u001b[49m\u001b[43mkwds\u001b[49m\u001b[43m)\u001b[49m\n",
      "File \u001b[1;32m~\\anaconda3\\envs\\thuantt2\\lib\\site-packages\\pandas\\io\\parsers\\readers.py:626\u001b[0m, in \u001b[0;36m_read\u001b[1;34m(filepath_or_buffer, kwds)\u001b[0m\n\u001b[0;32m    623\u001b[0m     \u001b[38;5;28;01mreturn\u001b[39;00m parser\n\u001b[0;32m    625\u001b[0m \u001b[38;5;28;01mwith\u001b[39;00m parser:\n\u001b[1;32m--> 626\u001b[0m     \u001b[38;5;28;01mreturn\u001b[39;00m \u001b[43mparser\u001b[49m\u001b[38;5;241;43m.\u001b[39;49m\u001b[43mread\u001b[49m\u001b[43m(\u001b[49m\u001b[43mnrows\u001b[49m\u001b[43m)\u001b[49m\n",
      "File \u001b[1;32m~\\anaconda3\\envs\\thuantt2\\lib\\site-packages\\pandas\\io\\parsers\\readers.py:1923\u001b[0m, in \u001b[0;36mTextFileReader.read\u001b[1;34m(self, nrows)\u001b[0m\n\u001b[0;32m   1916\u001b[0m nrows \u001b[38;5;241m=\u001b[39m validate_integer(\u001b[38;5;124m\"\u001b[39m\u001b[38;5;124mnrows\u001b[39m\u001b[38;5;124m\"\u001b[39m, nrows)\n\u001b[0;32m   1917\u001b[0m \u001b[38;5;28;01mtry\u001b[39;00m:\n\u001b[0;32m   1918\u001b[0m     \u001b[38;5;66;03m# error: \"ParserBase\" has no attribute \"read\"\u001b[39;00m\n\u001b[0;32m   1919\u001b[0m     (\n\u001b[0;32m   1920\u001b[0m         index,\n\u001b[0;32m   1921\u001b[0m         columns,\n\u001b[0;32m   1922\u001b[0m         col_dict,\n\u001b[1;32m-> 1923\u001b[0m     ) \u001b[38;5;241m=\u001b[39m \u001b[38;5;28;43mself\u001b[39;49m\u001b[38;5;241;43m.\u001b[39;49m\u001b[43m_engine\u001b[49m\u001b[38;5;241;43m.\u001b[39;49m\u001b[43mread\u001b[49m\u001b[43m(\u001b[49m\u001b[43m  \u001b[49m\u001b[38;5;66;43;03m# type: ignore[attr-defined]\u001b[39;49;00m\n\u001b[0;32m   1924\u001b[0m \u001b[43m        \u001b[49m\u001b[43mnrows\u001b[49m\n\u001b[0;32m   1925\u001b[0m \u001b[43m    \u001b[49m\u001b[43m)\u001b[49m\n\u001b[0;32m   1926\u001b[0m \u001b[38;5;28;01mexcept\u001b[39;00m \u001b[38;5;167;01mException\u001b[39;00m:\n\u001b[0;32m   1927\u001b[0m     \u001b[38;5;28mself\u001b[39m\u001b[38;5;241m.\u001b[39mclose()\n",
      "File \u001b[1;32m~\\anaconda3\\envs\\thuantt2\\lib\\site-packages\\pandas\\io\\parsers\\c_parser_wrapper.py:234\u001b[0m, in \u001b[0;36mCParserWrapper.read\u001b[1;34m(self, nrows)\u001b[0m\n\u001b[0;32m    232\u001b[0m \u001b[38;5;28;01mtry\u001b[39;00m:\n\u001b[0;32m    233\u001b[0m     \u001b[38;5;28;01mif\u001b[39;00m \u001b[38;5;28mself\u001b[39m\u001b[38;5;241m.\u001b[39mlow_memory:\n\u001b[1;32m--> 234\u001b[0m         chunks \u001b[38;5;241m=\u001b[39m \u001b[38;5;28;43mself\u001b[39;49m\u001b[38;5;241;43m.\u001b[39;49m\u001b[43m_reader\u001b[49m\u001b[38;5;241;43m.\u001b[39;49m\u001b[43mread_low_memory\u001b[49m\u001b[43m(\u001b[49m\u001b[43mnrows\u001b[49m\u001b[43m)\u001b[49m\n\u001b[0;32m    235\u001b[0m         \u001b[38;5;66;03m# destructive to chunks\u001b[39;00m\n\u001b[0;32m    236\u001b[0m         data \u001b[38;5;241m=\u001b[39m _concatenate_chunks(chunks)\n",
      "File \u001b[1;32mparsers.pyx:838\u001b[0m, in \u001b[0;36mpandas._libs.parsers.TextReader.read_low_memory\u001b[1;34m()\u001b[0m\n",
      "File \u001b[1;32mparsers.pyx:905\u001b[0m, in \u001b[0;36mpandas._libs.parsers.TextReader._read_rows\u001b[1;34m()\u001b[0m\n",
      "File \u001b[1;32mparsers.pyx:874\u001b[0m, in \u001b[0;36mpandas._libs.parsers.TextReader._tokenize_rows\u001b[1;34m()\u001b[0m\n",
      "File \u001b[1;32mparsers.pyx:891\u001b[0m, in \u001b[0;36mpandas._libs.parsers.TextReader._check_tokenize_status\u001b[1;34m()\u001b[0m\n",
      "File \u001b[1;32mparsers.pyx:2061\u001b[0m, in \u001b[0;36mpandas._libs.parsers.raise_parser_error\u001b[1;34m()\u001b[0m\n",
      "\u001b[1;31mParserError\u001b[0m: Error tokenizing data. C error: Expected 8 fields in line 230, saw 9\n"
     ]
    }
   ],
   "source": [
    "dsbs = pd.read_csv('../dataset/DN-HCM/DanhSachBoSung.csv')\n",
    "dsbs.head()"
   ]
  },
  {
   "cell_type": "code",
   "execution_count": 4,
   "id": "acbdddf5-7399-4571-a2dc-bb8f38cc2d88",
   "metadata": {},
   "outputs": [],
   "source": [
    "from selenium import webdriver\n",
    "from selenium.webdriver.common.by import By\n",
    "from selenium.webdriver.common.keys import Keys\n",
    "import time"
   ]
  },
  {
   "cell_type": "code",
   "execution_count": 12,
   "id": "5eb7a8c6-5a03-4a6e-bd32-06b27851b8c2",
   "metadata": {},
   "outputs": [],
   "source": [
    "# Khởi tạo trình duyệt\n",
    "driver = webdriver.Chrome()  # hoặc Edge(), Firefox(), tùy vào trình duyệt bạn có\n",
    "\n",
    "# Mở trang tra cứu\n",
    "driver.get('https://thuvienphapluat.vn/ma-so-thue/tra-cuu-ma-so-thue-doanh-nghiep?timtheo=ma-so-thue&tukhoa=&ngaycaptu=&ngaycapden=&ngaydongmsttu=&ngaydongmstden=&vondieuletu=&vondieuleden=&loaihinh=0&nganhnghe=0&tinhthanhpho=79&quanhuyen=0&phuongxa=0')  # <-- thay bằng URL thật\n",
    "\n",
    "# Đợi trang load xong\n",
    "time.sleep(2)"
   ]
  },
  {
   "cell_type": "code",
   "execution_count": 13,
   "id": "01378b6d-26e5-4995-a2e9-1d5609f99a1f",
   "metadata": {},
   "outputs": [],
   "source": [
    "# Điền mã số thuế\n",
    "mst_input = driver.find_element(By.NAME, 'tukhoa')  # hoặc By.NAME / By.XPATH tùy trang\n",
    "mst_input.send_keys('0316844070')"
   ]
  },
  {
   "cell_type": "code",
   "execution_count": 14,
   "id": "5b4e1a2e-4dfc-42dc-a6ac-593359cabf2d",
   "metadata": {},
   "outputs": [],
   "source": [
    "# Click nút tra cứu\n",
    "search_button = driver.find_element(By.ID, 'btnSeachMST')  # hoặc tìm theo class/xpath\n",
    "search_button.click()"
   ]
  },
  {
   "cell_type": "code",
   "execution_count": 15,
   "id": "a21c3f7e-9114-487b-8be8-2bedaaea6e79",
   "metadata": {},
   "outputs": [],
   "source": [
    "\n",
    "# Chờ kết quả hiển thị\n",
    "time.sleep(3)"
   ]
  },
  {
   "cell_type": "code",
   "execution_count": 16,
   "id": "636946cf-830e-41af-829c-453008516b30",
   "metadata": {},
   "outputs": [
    {
     "name": "stdout",
     "output_type": "stream",
     "text": [
      "Kết quả tìm kiếm\n",
      "Tìm thấy 1 kết quả\n",
      "STT Mã số thuế Tên doanh nghiệp Ngày cấp\n",
      "1 0316844070\n",
      "CÔNG TY CỔ PHẦN DỊCH VỤ NĂNG LƯỢNG VNG\n",
      "05/2021\n",
      "1\n"
     ]
    }
   ],
   "source": [
    "# Lấy kết quả trả về\n",
    "result = driver.find_element(By.ID, 'dvResultSearch')  # chỉnh lại class đúng\n",
    "print(result.text)\n",
    "\n",
    "# # Đóng trình duyệt\n",
    "# driver.quit()\n"
   ]
  },
  {
   "cell_type": "code",
   "execution_count": null,
   "id": "ac109a82-7aad-4671-8ad0-0eb1ba812d7a",
   "metadata": {},
   "outputs": [],
   "source": []
  }
 ],
 "metadata": {
  "kernelspec": {
   "display_name": "Python 3 (ipykernel)",
   "language": "python",
   "name": "python3"
  },
  "language_info": {
   "codemirror_mode": {
    "name": "ipython",
    "version": 3
   },
   "file_extension": ".py",
   "mimetype": "text/x-python",
   "name": "python",
   "nbconvert_exporter": "python",
   "pygments_lexer": "ipython3",
   "version": "3.9.21"
  }
 },
 "nbformat": 4,
 "nbformat_minor": 5
}
